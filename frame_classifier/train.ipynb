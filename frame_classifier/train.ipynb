{
 "cells": [
  {
   "cell_type": "code",
   "execution_count": null,
   "metadata": {},
   "outputs": [],
   "source": [
    "import torch\n",
    "import wandb\n",
    "from tqdm import tqdm\n",
    "\n",
    "from data import FrameDataset, VideoDataset, get_dataloader, get_transforms\n",
    "from model import FrameClassifier\n",
    "from train import MetricsLogger, train_epoch, val_epoch"
   ]
  },
  {
   "cell_type": "code",
   "execution_count": null,
   "metadata": {},
   "outputs": [],
   "source": [
    "config = {\n",
    "    'epochs': 30,\n",
    "}\n",
    "\n",
    "wandb.init(project='action-recognition', config=config)\n",
    "\n",
    "device = torch.device('cpu')\n",
    "if torch.cuda.is_available():\n",
    "    device = torch.device('cuda')"
   ]
  },
  {
   "cell_type": "code",
   "execution_count": null,
   "metadata": {},
   "outputs": [],
   "source": [
    "transforms = get_transforms(\n",
    "    resize=256,\n",
    "    crop=224,\n",
    "    mean=[0.485, 0.456, 0.406],\n",
    "    std=[0.229, 0.224, 0.225],\n",
    ")\n",
    "\n",
    "train_set = FrameDataset(\n",
    "    root_dir='../data',\n",
    "    metadata_filename='train.csv',\n",
    "    random_seed=42,\n",
    "    transforms=transforms,\n",
    ")\n",
    "\n",
    "train_val_set = VideoDataset(\n",
    "    root_dir='../data',\n",
    "    metadata_filename='train.csv',\n",
    "    random_seed=42,\n",
    "    transforms=transforms,\n",
    ")\n",
    "\n",
    "val_set = VideoDataset(\n",
    "    root_dir='../data',\n",
    "    metadata_filename='val.csv',\n",
    "    random_seed=42,\n",
    "    transforms=transforms,\n",
    ")\n",
    "\n",
    "train_loader = get_dataloader(\n",
    "    dataset=train_set,\n",
    "    batch_size=32,\n",
    "    mode='train',\n",
    "    num_workers=8,\n",
    ")\n",
    "\n",
    "train_val_loader = get_dataloader(\n",
    "    dataset=train_val_set,\n",
    "    batch_size=1,\n",
    "    mode='val',\n",
    "    num_workers=8,\n",
    ")\n",
    "\n",
    "val_loader = get_dataloader(\n",
    "    dataset=val_set,\n",
    "    batch_size=1,\n",
    "    mode='val',\n",
    "    num_workers=8,\n",
    ")"
   ]
  },
  {
   "cell_type": "code",
   "execution_count": null,
   "metadata": {},
   "outputs": [],
   "source": [
    "model = FrameClassifier(\n",
    "    num_classes=train_set.num_classes,\n",
    ").to(device)\n",
    "criterion = torch.nn.BCEWithLogitsLoss()\n",
    "optimizer = torch.optim.AdamW(model.parameters())\n",
    "\n",
    "logger = MetricsLogger()"
   ]
  },
  {
   "cell_type": "code",
   "execution_count": null,
   "metadata": {},
   "outputs": [],
   "source": [
    "for epoch in tqdm(range(config['epochs'])):\n",
    "    y_true, y_pred, loss = train_epoch(\n",
    "        dataloader=train_loader,\n",
    "        model=model,\n",
    "        criterion=criterion,\n",
    "        optimizer=optimizer,\n",
    "        device=device,\n",
    "    )\n",
    "    logger.log_epoch(y_true, y_pred, 'Train (Frame)')\n",
    "    \n",
    "    y_true, y_pred = val_epoch(\n",
    "        dataloader=train_val_loader,\n",
    "        model=model,\n",
    "        device=device,\n",
    "    )\n",
    "    logger.log_epoch(y_true, y_pred, 'Train (Video)')\n",
    "    \n",
    "    y_true, y_pred = val_epoch(\n",
    "        dataloader=val_loader,\n",
    "        model=model,\n",
    "        device=device,\n",
    "    )\n",
    "    logger.log_epoch(y_true, y_pred, 'Val (Video)')\n",
    "    \n",
    "    logger.log_wandb()"
   ]
  },
  {
   "cell_type": "code",
   "execution_count": null,
   "metadata": {},
   "outputs": [],
   "source": [
    "wandb.finish()"
   ]
  }
 ],
 "metadata": {
  "kernelspec": {
   "display_name": "Python 3 (ipykernel)",
   "language": "python",
   "name": "python3"
  },
  "language_info": {
   "codemirror_mode": {
    "name": "ipython",
    "version": 3
   },
   "file_extension": ".py",
   "mimetype": "text/x-python",
   "name": "python",
   "nbconvert_exporter": "python",
   "pygments_lexer": "ipython3",
   "version": "3.10.10"
  }
 },
 "nbformat": 4,
 "nbformat_minor": 1
}
