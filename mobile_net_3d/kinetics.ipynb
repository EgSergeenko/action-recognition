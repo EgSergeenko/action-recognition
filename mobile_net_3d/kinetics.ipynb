{
 "nbformat": 4,
 "nbformat_minor": 0,
 "metadata": {
  "colab": {
   "provenance": [],
   "gpuType": "T4"
  },
  "kernelspec": {
   "name": "python3",
   "display_name": "Python 3"
  },
  "language_info": {
   "name": "python"
  },
  "widgets": {
   "application/vnd.jupyter.widget-state+json": {
    "e86ddec1ac07485a976f4959091cede4": {
     "model_module": "@jupyter-widgets/controls",
     "model_name": "HBoxModel",
     "model_module_version": "1.5.0",
     "state": {
      "_dom_classes": [],
      "_model_module": "@jupyter-widgets/controls",
      "_model_module_version": "1.5.0",
      "_model_name": "HBoxModel",
      "_view_count": null,
      "_view_module": "@jupyter-widgets/controls",
      "_view_module_version": "1.5.0",
      "_view_name": "HBoxView",
      "box_style": "",
      "children": [
       "IPY_MODEL_a94d4173d76943689944737210abfbce",
       "IPY_MODEL_d2ebe6ed7ef64a628032b6e714f75722",
       "IPY_MODEL_30cdcd1dda9c4046a0b980924f0d9e56"
      ],
      "layout": "IPY_MODEL_e8955c29a5774d1e9407d775bdc2adc7"
     }
    },
    "a94d4173d76943689944737210abfbce": {
     "model_module": "@jupyter-widgets/controls",
     "model_name": "HTMLModel",
     "model_module_version": "1.5.0",
     "state": {
      "_dom_classes": [],
      "_model_module": "@jupyter-widgets/controls",
      "_model_module_version": "1.5.0",
      "_model_name": "HTMLModel",
      "_view_count": null,
      "_view_module": "@jupyter-widgets/controls",
      "_view_module_version": "1.5.0",
      "_view_name": "HTMLView",
      "description": "",
      "description_tooltip": null,
      "layout": "IPY_MODEL_76c4476c7f5343908ff73a288ec6255b",
      "placeholder": "​",
      "style": "IPY_MODEL_a77796b5fb234c38b9cf1018935d3412",
      "value": "100%"
     }
    },
    "d2ebe6ed7ef64a628032b6e714f75722": {
     "model_module": "@jupyter-widgets/controls",
     "model_name": "FloatProgressModel",
     "model_module_version": "1.5.0",
     "state": {
      "_dom_classes": [],
      "_model_module": "@jupyter-widgets/controls",
      "_model_module_version": "1.5.0",
      "_model_name": "FloatProgressModel",
      "_view_count": null,
      "_view_module": "@jupyter-widgets/controls",
      "_view_module_version": "1.5.0",
      "_view_name": "ProgressView",
      "bar_style": "success",
      "description": "",
      "description_tooltip": null,
      "layout": "IPY_MODEL_370ac6b91b6f49fbb5de5d02c049838d",
      "max": 10,
      "min": 0,
      "orientation": "horizontal",
      "style": "IPY_MODEL_7ac7ba1695254fc9b6554a8e631a2f19",
      "value": 10
     }
    },
    "30cdcd1dda9c4046a0b980924f0d9e56": {
     "model_module": "@jupyter-widgets/controls",
     "model_name": "HTMLModel",
     "model_module_version": "1.5.0",
     "state": {
      "_dom_classes": [],
      "_model_module": "@jupyter-widgets/controls",
      "_model_module_version": "1.5.0",
      "_model_name": "HTMLModel",
      "_view_count": null,
      "_view_module": "@jupyter-widgets/controls",
      "_view_module_version": "1.5.0",
      "_view_name": "HTMLView",
      "description": "",
      "description_tooltip": null,
      "layout": "IPY_MODEL_38dc731c3e41439caa19be6200efbb32",
      "placeholder": "​",
      "style": "IPY_MODEL_5b91bf82fced461d8a1e2b918910203b",
      "value": " 10/10 [19:19&lt;00:00, 115.93s/it]"
     }
    },
    "e8955c29a5774d1e9407d775bdc2adc7": {
     "model_module": "@jupyter-widgets/base",
     "model_name": "LayoutModel",
     "model_module_version": "1.2.0",
     "state": {
      "_model_module": "@jupyter-widgets/base",
      "_model_module_version": "1.2.0",
      "_model_name": "LayoutModel",
      "_view_count": null,
      "_view_module": "@jupyter-widgets/base",
      "_view_module_version": "1.2.0",
      "_view_name": "LayoutView",
      "align_content": null,
      "align_items": null,
      "align_self": null,
      "border": null,
      "bottom": null,
      "display": null,
      "flex": null,
      "flex_flow": null,
      "grid_area": null,
      "grid_auto_columns": null,
      "grid_auto_flow": null,
      "grid_auto_rows": null,
      "grid_column": null,
      "grid_gap": null,
      "grid_row": null,
      "grid_template_areas": null,
      "grid_template_columns": null,
      "grid_template_rows": null,
      "height": null,
      "justify_content": null,
      "justify_items": null,
      "left": null,
      "margin": null,
      "max_height": null,
      "max_width": null,
      "min_height": null,
      "min_width": null,
      "object_fit": null,
      "object_position": null,
      "order": null,
      "overflow": null,
      "overflow_x": null,
      "overflow_y": null,
      "padding": null,
      "right": null,
      "top": null,
      "visibility": null,
      "width": null
     }
    },
    "76c4476c7f5343908ff73a288ec6255b": {
     "model_module": "@jupyter-widgets/base",
     "model_name": "LayoutModel",
     "model_module_version": "1.2.0",
     "state": {
      "_model_module": "@jupyter-widgets/base",
      "_model_module_version": "1.2.0",
      "_model_name": "LayoutModel",
      "_view_count": null,
      "_view_module": "@jupyter-widgets/base",
      "_view_module_version": "1.2.0",
      "_view_name": "LayoutView",
      "align_content": null,
      "align_items": null,
      "align_self": null,
      "border": null,
      "bottom": null,
      "display": null,
      "flex": null,
      "flex_flow": null,
      "grid_area": null,
      "grid_auto_columns": null,
      "grid_auto_flow": null,
      "grid_auto_rows": null,
      "grid_column": null,
      "grid_gap": null,
      "grid_row": null,
      "grid_template_areas": null,
      "grid_template_columns": null,
      "grid_template_rows": null,
      "height": null,
      "justify_content": null,
      "justify_items": null,
      "left": null,
      "margin": null,
      "max_height": null,
      "max_width": null,
      "min_height": null,
      "min_width": null,
      "object_fit": null,
      "object_position": null,
      "order": null,
      "overflow": null,
      "overflow_x": null,
      "overflow_y": null,
      "padding": null,
      "right": null,
      "top": null,
      "visibility": null,
      "width": null
     }
    },
    "a77796b5fb234c38b9cf1018935d3412": {
     "model_module": "@jupyter-widgets/controls",
     "model_name": "DescriptionStyleModel",
     "model_module_version": "1.5.0",
     "state": {
      "_model_module": "@jupyter-widgets/controls",
      "_model_module_version": "1.5.0",
      "_model_name": "DescriptionStyleModel",
      "_view_count": null,
      "_view_module": "@jupyter-widgets/base",
      "_view_module_version": "1.2.0",
      "_view_name": "StyleView",
      "description_width": ""
     }
    },
    "370ac6b91b6f49fbb5de5d02c049838d": {
     "model_module": "@jupyter-widgets/base",
     "model_name": "LayoutModel",
     "model_module_version": "1.2.0",
     "state": {
      "_model_module": "@jupyter-widgets/base",
      "_model_module_version": "1.2.0",
      "_model_name": "LayoutModel",
      "_view_count": null,
      "_view_module": "@jupyter-widgets/base",
      "_view_module_version": "1.2.0",
      "_view_name": "LayoutView",
      "align_content": null,
      "align_items": null,
      "align_self": null,
      "border": null,
      "bottom": null,
      "display": null,
      "flex": null,
      "flex_flow": null,
      "grid_area": null,
      "grid_auto_columns": null,
      "grid_auto_flow": null,
      "grid_auto_rows": null,
      "grid_column": null,
      "grid_gap": null,
      "grid_row": null,
      "grid_template_areas": null,
      "grid_template_columns": null,
      "grid_template_rows": null,
      "height": null,
      "justify_content": null,
      "justify_items": null,
      "left": null,
      "margin": null,
      "max_height": null,
      "max_width": null,
      "min_height": null,
      "min_width": null,
      "object_fit": null,
      "object_position": null,
      "order": null,
      "overflow": null,
      "overflow_x": null,
      "overflow_y": null,
      "padding": null,
      "right": null,
      "top": null,
      "visibility": null,
      "width": null
     }
    },
    "7ac7ba1695254fc9b6554a8e631a2f19": {
     "model_module": "@jupyter-widgets/controls",
     "model_name": "ProgressStyleModel",
     "model_module_version": "1.5.0",
     "state": {
      "_model_module": "@jupyter-widgets/controls",
      "_model_module_version": "1.5.0",
      "_model_name": "ProgressStyleModel",
      "_view_count": null,
      "_view_module": "@jupyter-widgets/base",
      "_view_module_version": "1.2.0",
      "_view_name": "StyleView",
      "bar_color": null,
      "description_width": ""
     }
    },
    "38dc731c3e41439caa19be6200efbb32": {
     "model_module": "@jupyter-widgets/base",
     "model_name": "LayoutModel",
     "model_module_version": "1.2.0",
     "state": {
      "_model_module": "@jupyter-widgets/base",
      "_model_module_version": "1.2.0",
      "_model_name": "LayoutModel",
      "_view_count": null,
      "_view_module": "@jupyter-widgets/base",
      "_view_module_version": "1.2.0",
      "_view_name": "LayoutView",
      "align_content": null,
      "align_items": null,
      "align_self": null,
      "border": null,
      "bottom": null,
      "display": null,
      "flex": null,
      "flex_flow": null,
      "grid_area": null,
      "grid_auto_columns": null,
      "grid_auto_flow": null,
      "grid_auto_rows": null,
      "grid_column": null,
      "grid_gap": null,
      "grid_row": null,
      "grid_template_areas": null,
      "grid_template_columns": null,
      "grid_template_rows": null,
      "height": null,
      "justify_content": null,
      "justify_items": null,
      "left": null,
      "margin": null,
      "max_height": null,
      "max_width": null,
      "min_height": null,
      "min_width": null,
      "object_fit": null,
      "object_position": null,
      "order": null,
      "overflow": null,
      "overflow_x": null,
      "overflow_y": null,
      "padding": null,
      "right": null,
      "top": null,
      "visibility": null,
      "width": null
     }
    },
    "5b91bf82fced461d8a1e2b918910203b": {
     "model_module": "@jupyter-widgets/controls",
     "model_name": "DescriptionStyleModel",
     "model_module_version": "1.5.0",
     "state": {
      "_model_module": "@jupyter-widgets/controls",
      "_model_module_version": "1.5.0",
      "_model_name": "DescriptionStyleModel",
      "_view_count": null,
      "_view_module": "@jupyter-widgets/base",
      "_view_module_version": "1.2.0",
      "_view_name": "StyleView",
      "description_width": ""
     }
    }
   }
  }
 },
 "cells": [
  {
   "cell_type": "code",
   "source": [
    "!gdown 1P6t3MAyTlsdN6ZQ9dzWtkHimYVY44J26"
   ],
   "metadata": {
    "colab": {
     "base_uri": "https://localhost:8080/"
    },
    "id": "BvnjlD56hYqb",
    "outputId": "981258a3-dba0-459c-a54d-797f26044707",
    "pycharm": {
     "name": "#%%\n"
    }
   },
   "execution_count": 1,
   "outputs": [
    {
     "output_type": "stream",
     "name": "stdout",
     "text": [
      "Downloading...\n",
      "From: https://drive.google.com/uc?id=1P6t3MAyTlsdN6ZQ9dzWtkHimYVY44J26\n",
      "To: /content/videos.zip\n",
      "100% 293M/293M [00:03<00:00, 80.0MB/s]\n"
     ]
    }
   ]
  },
  {
   "cell_type": "code",
   "source": [
    "!gdown 1ajNw5P-mcRtezZ8b37ad-4UMFW5uirnS\n",
    "!gdown 1Wcliu4PZgChLtoG3_eMYaM03AYnrdA7u"
   ],
   "metadata": {
    "colab": {
     "base_uri": "https://localhost:8080/"
    },
    "id": "NdPoW3uphaiT",
    "outputId": "be7ced2a-45f5-4d5e-b0b6-22aa7b4d2b30",
    "pycharm": {
     "name": "#%%\n"
    }
   },
   "execution_count": 2,
   "outputs": [
    {
     "output_type": "stream",
     "name": "stdout",
     "text": [
      "Downloading...\n",
      "From: https://drive.google.com/uc?id=1ajNw5P-mcRtezZ8b37ad-4UMFW5uirnS\n",
      "To: /content/train.csv\n",
      "100% 57.7k/57.7k [00:00<00:00, 80.9MB/s]\n",
      "Downloading...\n",
      "From: https://drive.google.com/uc?id=1Wcliu4PZgChLtoG3_eMYaM03AYnrdA7u\n",
      "To: /content/val.csv\n",
      "100% 6.44k/6.44k [00:00<00:00, 17.8MB/s]\n"
     ]
    }
   ]
  },
  {
   "cell_type": "code",
   "execution_count": 3,
   "metadata": {
    "id": "UXabk_M8guNB",
    "pycharm": {
     "name": "#%%\n"
    }
   },
   "outputs": [],
   "source": [
    "import os\n",
    "import cv2\n",
    "import glob\n",
    "import numpy as np\n",
    "import pandas as pd\n",
    "import matplotlib.pyplot as plt\n",
    "from tqdm.notebook import tqdm\n",
    "\n",
    "import albumentations as A\n",
    "\n",
    "import torch\n",
    "import torch.nn as nn\n",
    "from torch.utils.data import Dataset, DataLoader\n",
    "\n",
    "from sklearn.metrics import f1_score"
   ]
  },
  {
   "cell_type": "code",
   "source": [
    "import warnings\n",
    "warnings.filterwarnings(\"ignore\", category=UserWarning)"
   ],
   "metadata": {
    "id": "kQ8sABWKhFbR",
    "pycharm": {
     "name": "#%%\n"
    }
   },
   "execution_count": 4,
   "outputs": []
  },
  {
   "cell_type": "code",
   "source": [
    "device = 'cuda:0' if torch.cuda.is_available() else 'cpu'\n",
    "device"
   ],
   "metadata": {
    "colab": {
     "base_uri": "https://localhost:8080/",
     "height": 35
    },
    "id": "BpJVTHy7hJJB",
    "outputId": "9ecf69cf-2952-404b-bb9e-b5fbe070a926",
    "pycharm": {
     "name": "#%%\n"
    }
   },
   "execution_count": 5,
   "outputs": [
    {
     "output_type": "execute_result",
     "data": {
      "text/plain": [
       "'cuda:0'"
      ],
      "application/vnd.google.colaboratory.intrinsic+json": {
       "type": "string"
      }
     },
     "metadata": {},
     "execution_count": 5
    }
   ]
  },
  {
   "cell_type": "code",
   "source": [
    "train_df = pd.read_csv('train.csv')\n",
    "val_df = pd.read_csv('val.csv')"
   ],
   "metadata": {
    "id": "VrslyrbdhLRN",
    "pycharm": {
     "name": "#%%\n"
    }
   },
   "execution_count": 6,
   "outputs": []
  },
  {
   "cell_type": "code",
   "source": [
    "train_df.head(10)"
   ],
   "metadata": {
    "colab": {
     "base_uri": "https://localhost:8080/",
     "height": 363
    },
    "id": "xzK1ABf0hRh_",
    "outputId": "6bdecc62-7c03-4306-907c-5dd3b2fecc64",
    "pycharm": {
     "name": "#%%\n"
    }
   },
   "execution_count": 7,
   "outputs": [
    {
     "output_type": "execute_result",
     "data": {
      "text/plain": [
       "    video_id                  label\n",
       "0  01781.mp4       mosh pit dancing\n",
       "1  01005.mp4  dancing gangnam style\n",
       "2  00305.mp4           breakdancing\n",
       "3  01385.mp4       dancing macarena\n",
       "4  00493.mp4   country line dancing\n",
       "5  02033.mp4          salsa dancing\n",
       "6  01817.mp4          robot dancing\n",
       "7  01143.mp4  dancing gangnam style\n",
       "8  00233.mp4           breakdancing\n",
       "9  02999.mp4            tap dancing"
      ],
      "text/html": [
       "\n",
       "  <div id=\"df-858bc333-b65f-470d-a924-738168fbefd7\">\n",
       "    <div class=\"colab-df-container\">\n",
       "      <div>\n",
       "<style scoped>\n",
       "    .dataframe tbody tr th:only-of-type {\n",
       "        vertical-align: middle;\n",
       "    }\n",
       "\n",
       "    .dataframe tbody tr th {\n",
       "        vertical-align: top;\n",
       "    }\n",
       "\n",
       "    .dataframe thead th {\n",
       "        text-align: right;\n",
       "    }\n",
       "</style>\n",
       "<table border=\"1\" class=\"dataframe\">\n",
       "  <thead>\n",
       "    <tr style=\"text-align: right;\">\n",
       "      <th></th>\n",
       "      <th>video_id</th>\n",
       "      <th>label</th>\n",
       "    </tr>\n",
       "  </thead>\n",
       "  <tbody>\n",
       "    <tr>\n",
       "      <th>0</th>\n",
       "      <td>01781.mp4</td>\n",
       "      <td>mosh pit dancing</td>\n",
       "    </tr>\n",
       "    <tr>\n",
       "      <th>1</th>\n",
       "      <td>01005.mp4</td>\n",
       "      <td>dancing gangnam style</td>\n",
       "    </tr>\n",
       "    <tr>\n",
       "      <th>2</th>\n",
       "      <td>00305.mp4</td>\n",
       "      <td>breakdancing</td>\n",
       "    </tr>\n",
       "    <tr>\n",
       "      <th>3</th>\n",
       "      <td>01385.mp4</td>\n",
       "      <td>dancing macarena</td>\n",
       "    </tr>\n",
       "    <tr>\n",
       "      <th>4</th>\n",
       "      <td>00493.mp4</td>\n",
       "      <td>country line dancing</td>\n",
       "    </tr>\n",
       "    <tr>\n",
       "      <th>5</th>\n",
       "      <td>02033.mp4</td>\n",
       "      <td>salsa dancing</td>\n",
       "    </tr>\n",
       "    <tr>\n",
       "      <th>6</th>\n",
       "      <td>01817.mp4</td>\n",
       "      <td>robot dancing</td>\n",
       "    </tr>\n",
       "    <tr>\n",
       "      <th>7</th>\n",
       "      <td>01143.mp4</td>\n",
       "      <td>dancing gangnam style</td>\n",
       "    </tr>\n",
       "    <tr>\n",
       "      <th>8</th>\n",
       "      <td>00233.mp4</td>\n",
       "      <td>breakdancing</td>\n",
       "    </tr>\n",
       "    <tr>\n",
       "      <th>9</th>\n",
       "      <td>02999.mp4</td>\n",
       "      <td>tap dancing</td>\n",
       "    </tr>\n",
       "  </tbody>\n",
       "</table>\n",
       "</div>\n",
       "      <button class=\"colab-df-convert\" onclick=\"convertToInteractive('df-858bc333-b65f-470d-a924-738168fbefd7')\"\n",
       "              title=\"Convert this dataframe to an interactive table.\"\n",
       "              style=\"display:none;\">\n",
       "        \n",
       "  <svg xmlns=\"http://www.w3.org/2000/svg\" height=\"24px\"viewBox=\"0 0 24 24\"\n",
       "       width=\"24px\">\n",
       "    <path d=\"M0 0h24v24H0V0z\" fill=\"none\"/>\n",
       "    <path d=\"M18.56 5.44l.94 2.06.94-2.06 2.06-.94-2.06-.94-.94-2.06-.94 2.06-2.06.94zm-11 1L8.5 8.5l.94-2.06 2.06-.94-2.06-.94L8.5 2.5l-.94 2.06-2.06.94zm10 10l.94 2.06.94-2.06 2.06-.94-2.06-.94-.94-2.06-.94 2.06-2.06.94z\"/><path d=\"M17.41 7.96l-1.37-1.37c-.4-.4-.92-.59-1.43-.59-.52 0-1.04.2-1.43.59L10.3 9.45l-7.72 7.72c-.78.78-.78 2.05 0 2.83L4 21.41c.39.39.9.59 1.41.59.51 0 1.02-.2 1.41-.59l7.78-7.78 2.81-2.81c.8-.78.8-2.07 0-2.86zM5.41 20L4 18.59l7.72-7.72 1.47 1.35L5.41 20z\"/>\n",
       "  </svg>\n",
       "      </button>\n",
       "      \n",
       "  <style>\n",
       "    .colab-df-container {\n",
       "      display:flex;\n",
       "      flex-wrap:wrap;\n",
       "      gap: 12px;\n",
       "    }\n",
       "\n",
       "    .colab-df-convert {\n",
       "      background-color: #E8F0FE;\n",
       "      border: none;\n",
       "      border-radius: 50%;\n",
       "      cursor: pointer;\n",
       "      display: none;\n",
       "      fill: #1967D2;\n",
       "      height: 32px;\n",
       "      padding: 0 0 0 0;\n",
       "      width: 32px;\n",
       "    }\n",
       "\n",
       "    .colab-df-convert:hover {\n",
       "      background-color: #E2EBFA;\n",
       "      box-shadow: 0px 1px 2px rgba(60, 64, 67, 0.3), 0px 1px 3px 1px rgba(60, 64, 67, 0.15);\n",
       "      fill: #174EA6;\n",
       "    }\n",
       "\n",
       "    [theme=dark] .colab-df-convert {\n",
       "      background-color: #3B4455;\n",
       "      fill: #D2E3FC;\n",
       "    }\n",
       "\n",
       "    [theme=dark] .colab-df-convert:hover {\n",
       "      background-color: #434B5C;\n",
       "      box-shadow: 0px 1px 3px 1px rgba(0, 0, 0, 0.15);\n",
       "      filter: drop-shadow(0px 1px 2px rgba(0, 0, 0, 0.3));\n",
       "      fill: #FFFFFF;\n",
       "    }\n",
       "  </style>\n",
       "\n",
       "      <script>\n",
       "        const buttonEl =\n",
       "          document.querySelector('#df-858bc333-b65f-470d-a924-738168fbefd7 button.colab-df-convert');\n",
       "        buttonEl.style.display =\n",
       "          google.colab.kernel.accessAllowed ? 'block' : 'none';\n",
       "\n",
       "        async function convertToInteractive(key) {\n",
       "          const element = document.querySelector('#df-858bc333-b65f-470d-a924-738168fbefd7');\n",
       "          const dataTable =\n",
       "            await google.colab.kernel.invokeFunction('convertToInteractive',\n",
       "                                                     [key], {});\n",
       "          if (!dataTable) return;\n",
       "\n",
       "          const docLinkHtml = 'Like what you see? Visit the ' +\n",
       "            '<a target=\"_blank\" href=https://colab.research.google.com/notebooks/data_table.ipynb>data table notebook</a>'\n",
       "            + ' to learn more about interactive tables.';\n",
       "          element.innerHTML = '';\n",
       "          dataTable['output_type'] = 'display_data';\n",
       "          await google.colab.output.renderOutput(dataTable, element);\n",
       "          const docLink = document.createElement('div');\n",
       "          docLink.innerHTML = docLinkHtml;\n",
       "          element.appendChild(docLink);\n",
       "        }\n",
       "      </script>\n",
       "    </div>\n",
       "  </div>\n",
       "  "
      ]
     },
     "metadata": {},
     "execution_count": 7
    }
   ]
  },
  {
   "cell_type": "code",
   "source": [
    "classes = train_df.label.unique().tolist()\n",
    "classes"
   ],
   "metadata": {
    "colab": {
     "base_uri": "https://localhost:8080/"
    },
    "id": "0LBwVnKBhR7F",
    "outputId": "dfc93162-6bec-4f5b-aa82-4b50ebf78d8c",
    "pycharm": {
     "name": "#%%\n"
    }
   },
   "execution_count": 8,
   "outputs": [
    {
     "output_type": "execute_result",
     "data": {
      "text/plain": [
       "['mosh pit dancing',\n",
       " 'dancing gangnam style',\n",
       " 'breakdancing',\n",
       " 'dancing macarena',\n",
       " 'country line dancing',\n",
       " 'salsa dancing',\n",
       " 'robot dancing',\n",
       " 'tap dancing',\n",
       " 'dancing ballet',\n",
       " 'square dancing',\n",
       " 'belly dancing',\n",
       " 'jumpstyle dancing',\n",
       " 'dancing charleston',\n",
       " 'swing dancing',\n",
       " 'tango dancing']"
      ]
     },
     "metadata": {},
     "execution_count": 8
    }
   ]
  },
  {
   "cell_type": "code",
   "source": [
    "classes_dict = {x: str(i) for i, x in enumerate(classes)}\n",
    "classes_dict"
   ],
   "metadata": {
    "colab": {
     "base_uri": "https://localhost:8080/"
    },
    "id": "knHKumzdhdhj",
    "outputId": "bc2ba9ec-ae01-472c-e624-9cb5096bccde",
    "pycharm": {
     "name": "#%%\n"
    }
   },
   "execution_count": 9,
   "outputs": [
    {
     "output_type": "execute_result",
     "data": {
      "text/plain": [
       "{'mosh pit dancing': '0',\n",
       " 'dancing gangnam style': '1',\n",
       " 'breakdancing': '2',\n",
       " 'dancing macarena': '3',\n",
       " 'country line dancing': '4',\n",
       " 'salsa dancing': '5',\n",
       " 'robot dancing': '6',\n",
       " 'tap dancing': '7',\n",
       " 'dancing ballet': '8',\n",
       " 'square dancing': '9',\n",
       " 'belly dancing': '10',\n",
       " 'jumpstyle dancing': '11',\n",
       " 'dancing charleston': '12',\n",
       " 'swing dancing': '13',\n",
       " 'tango dancing': '14'}"
      ]
     },
     "metadata": {},
     "execution_count": 9
    }
   ]
  },
  {
   "cell_type": "code",
   "source": [
    "train_df['map_label'] = train_df['label'].map(classes_dict)\n",
    "val_df['map_label'] = val_df['label'].map(classes_dict)"
   ],
   "metadata": {
    "id": "iGqbg_5Mhh4g",
    "pycharm": {
     "name": "#%%\n"
    }
   },
   "execution_count": 10,
   "outputs": []
  },
  {
   "cell_type": "code",
   "source": [
    "!mkdir processed"
   ],
   "metadata": {
    "id": "1x4LCr_khqz4",
    "pycharm": {
     "name": "#%%\n"
    }
   },
   "execution_count": 19,
   "outputs": []
  },
  {
   "cell_type": "code",
   "source": [
    "!unzip videos.zip"
   ],
   "metadata": {
    "id": "M42Z_kYii3TB",
    "pycharm": {
     "name": "#%%\n"
    }
   },
   "execution_count": null,
   "outputs": []
  },
  {
   "cell_type": "code",
   "source": [
    "paths = sorted(os.listdir('videos'))\n",
    "len(paths)"
   ],
   "metadata": {
    "colab": {
     "base_uri": "https://localhost:8080/"
    },
    "id": "DohhmoVehjXC",
    "outputId": "5c4b501a-0ad1-432b-e052-8450f94498d8",
    "pycharm": {
     "name": "#%%\n"
    }
   },
   "execution_count": 13,
   "outputs": [
    {
     "output_type": "execute_result",
     "data": {
      "text/plain": [
       "2379"
      ]
     },
     "metadata": {},
     "execution_count": 13
    }
   ]
  },
  {
   "cell_type": "code",
   "source": [
    "from PIL import Image"
   ],
   "metadata": {
    "id": "OI07FtoRip55",
    "pycharm": {
     "name": "#%%\n"
    }
   },
   "execution_count": 14,
   "outputs": []
  },
  {
   "cell_type": "code",
   "source": [
    "from torchvision import transforms"
   ],
   "metadata": {
    "id": "KfEgReyYiyDw",
    "pycharm": {
     "name": "#%%\n"
    }
   },
   "execution_count": 15,
   "outputs": []
  },
  {
   "cell_type": "markdown",
   "source": [
    "left, top, right and bottom borders respectively."
   ],
   "metadata": {
    "id": "olUPMXV0qlGG",
    "pycharm": {
     "name": "#%% md\n"
    }
   }
  },
  {
   "cell_type": "code",
   "source": [
    "RESCALE_SIZE = 112\n",
    "\n",
    "def prepare_sample(pic: Image) -> np.array:\n",
    "    h, w, _ = pic.size()\n",
    "    # padding\n",
    "    max_wh = np.max([w, h])\n",
    "    hp = int((max_wh - w) / 2)\n",
    "    vp = int((max_wh - h) / 2)\n",
    "    padding = (hp, vp, hp, vp)\n",
    "    # padding = (hp, vp)\n",
    "    image = transforms.functional.pad(pic, padding, 0, 'constant')\n",
    "    print(image.shape)\n",
    "    image = transforms.functional.resize(image, (RESCALE_SIZE, RESCALE_SIZE))\n",
    "    image = image.permute((1,2,0))\n",
    "\n",
    "    return np.array(image)"
   ],
   "metadata": {
    "id": "yrNoE1Vbin-c",
    "pycharm": {
     "name": "#%%\n"
    }
   },
   "execution_count": 16,
   "outputs": []
  },
  {
   "cell_type": "code",
   "source": [
    "root = 'videos'\n",
    "out_path = 'processed'\n",
    "count_frame = 16\n",
    "\n",
    "for vid in paths:\n",
    "    check_path = os.path.join(out_path, vid.split('.')[0])\n",
    "    if not os.path.exists(check_path):\n",
    "        os.mkdir(check_path)\n",
    "    cap = cv2.VideoCapture(os.path.join(root, vid))\n",
    "    length = int(cap.get(cv2.CAP_PROP_FRAME_COUNT))\n",
    "    amount = 5\n",
    "    i, j = 0, 0\n",
    "    flag = True\n",
    "    while flag:\n",
    "        ret, frame = cap.read()\n",
    "        if ret:\n",
    "            if j % amount == 0:\n",
    "                frame = frame[:, :, ::-1]\n",
    "                frame = torch.from_numpy(frame.copy())\n",
    "                print(frame.size())\n",
    "                frame = prepare_sample(frame.permute((2,0,1)))\n",
    "                print(frame.shape)\n",
    "                save_path = os.path.join(out_path, vid.split('.')[0], f'{i}' + '.jpg')\n",
    "                plt.imsave(save_path, frame)\n",
    "                last_frame = frame\n",
    "                i += 1\n",
    "\n",
    "            if i == count_frame:\n",
    "                flag = False\n",
    "            j += 1\n",
    "        else:\n",
    "            if i < count_frame:\n",
    "                for _ in range(count_frame - i):\n",
    "                    save_path = os.path.join(out_path, vid.split('.')[0], f'{i}' + '.jpg')\n",
    "                    plt.imsave(save_path, last_frame)\n",
    "                    i += 1\n",
    "                flag = False\n"
   ],
   "metadata": {
    "id": "iAQa1SXAhmIH",
    "pycharm": {
     "name": "#%%\n"
    }
   },
   "execution_count": null,
   "outputs": []
  },
  {
   "cell_type": "code",
   "source": [
    "len(os.listdir('processed'))"
   ],
   "metadata": {
    "colab": {
     "base_uri": "https://localhost:8080/"
    },
    "id": "YJ3VLLuyht7s",
    "outputId": "508a48c3-05be-4a1d-d58a-87edca618aaf",
    "pycharm": {
     "name": "#%%\n"
    }
   },
   "execution_count": 21,
   "outputs": [
    {
     "output_type": "execute_result",
     "data": {
      "text/plain": [
       "2379"
      ]
     },
     "metadata": {},
     "execution_count": 21
    }
   ]
  },
  {
   "cell_type": "code",
   "source": [
    "train_ids = [(row.video_id.split('.')[0], int(row.map_label)) for row in train_df.itertuples()]\n",
    "val_ids = [(row.video_id.split('.')[0], int(row.map_label)) for row in val_df.itertuples()]"
   ],
   "metadata": {
    "id": "dhtDT8oBhvuc",
    "pycharm": {
     "name": "#%%\n"
    }
   },
   "execution_count": 22,
   "outputs": []
  },
  {
   "cell_type": "code",
   "source": [
    "import albumentations as A"
   ],
   "metadata": {
    "id": "gU746DeWvh4J",
    "pycharm": {
     "name": "#%%\n"
    }
   },
   "execution_count": 23,
   "outputs": []
  },
  {
   "cell_type": "code",
   "source": [
    "import albumentations.pytorch as Ap"
   ],
   "metadata": {
    "id": "ZYtYuWR2v76V",
    "pycharm": {
     "name": "#%%\n"
    }
   },
   "execution_count": 24,
   "outputs": []
  },
  {
   "cell_type": "code",
   "source": [
    "transform_train = A.Compose([\n",
    "    A.HorizontalFlip(p=0.5),\n",
    "    A.RandomBrightnessContrast(brightness_limit=0.5,\n",
    "                               contrast_limit=0.5, p=0.5),\n",
    "    A.augmentations.transforms.Normalize(mean=(0.5, 0.5, 0.5),\n",
    "                                         std=(0.5, 0.5, 0.5)),\n",
    "    Ap.transforms.ToTensorV2()\n",
    "], additional_targets={\n",
    "    f'image{i}': 'image'\n",
    "    for i in range(1, 16)\n",
    "})"
   ],
   "metadata": {
    "id": "l3OAD4fLvfon",
    "pycharm": {
     "name": "#%%\n"
    }
   },
   "execution_count": 77,
   "outputs": []
  },
  {
   "cell_type": "code",
   "source": [
    "transform_val= A.Compose([\n",
    "    A.augmentations.transforms.Normalize(mean=(0.5, 0.5, 0.5),\n",
    "                                         std=(0.5, 0.5, 0.5)),\n",
    "    Ap.transforms.ToTensorV2()\n",
    "], additional_targets={\n",
    "    f'image{i}': 'image'\n",
    "    for i in range(1, 16)\n",
    "})"
   ],
   "metadata": {
    "id": "kLb1sJdSDaRy",
    "pycharm": {
     "name": "#%%\n"
    }
   },
   "execution_count": 78,
   "outputs": []
  },
  {
   "cell_type": "code",
   "source": [
    "class CustomDataset(Dataset):\n",
    "\n",
    "    def __init__(self, images_ids, images_path_root, transform=None):\n",
    "\n",
    "        self.images_ids = images_ids\n",
    "        self.images_path_root = images_path_root\n",
    "        self.transform = transform\n",
    "\n",
    "    def __len__(self):\n",
    "\n",
    "        return len(self.images_ids)\n",
    "\n",
    "    def load_sample(self, paths):\n",
    "        images = []\n",
    "        for path in paths:\n",
    "            img = plt.imread(path)\n",
    "            images.append(img)\n",
    "\n",
    "        return np.array(images, dtype=np.float32)\n",
    "\n",
    "    def apply_augmentations(self, array):\n",
    "        targets={'image': array[0]}\n",
    "        for i in range(1, 16):\n",
    "            targets[f'image{i}'] = array[i]\n",
    "        transformed = self.transform(**targets)\n",
    "        transformed = torch.cat(\n",
    "            [transformed['image'].unsqueeze(1)] +\n",
    "            [transformed[f'image{i}'].unsqueeze(1)\n",
    "            for i in range(1, 16)], axis=1\n",
    "        )\n",
    "\n",
    "        return transformed\n",
    "\n",
    "    def __getitem__(self, index):\n",
    "        dir, label = self.images_ids[index]\n",
    "        # loading, transforming and stacking together\n",
    "        paths = [os.path.join(self.images_path_root,\n",
    "                              dir, f'{str(x)}.jpg') for x in range(16)]\n",
    "\n",
    "        tensor = self.load_sample(paths) / 255\n",
    "        tensor = self.apply_augmentations(tensor)\n",
    "\n",
    "\n",
    "        return tensor, label"
   ],
   "metadata": {
    "id": "Zf5RTbVPh1uk",
    "pycharm": {
     "name": "#%%\n"
    }
   },
   "execution_count": 80,
   "outputs": []
  },
  {
   "cell_type": "code",
   "source": [
    "train_dataset = CustomDataset(\n",
    "    images_ids=train_ids,\n",
    "    images_path_root='processed',\n",
    "    transform=transform_train\n",
    ")\n",
    "\n",
    "val_dataset = CustomDataset(\n",
    "    images_ids=val_ids,\n",
    "    images_path_root='processed',\n",
    "    transform=transform_val\n",
    ")"
   ],
   "metadata": {
    "id": "PzzMGJBuh-pI",
    "pycharm": {
     "name": "#%%\n"
    }
   },
   "execution_count": 82,
   "outputs": []
  },
  {
   "cell_type": "code",
   "source": [
    "train_loader = DataLoader(train_dataset, batch_size=15, shuffle=True, num_workers=2)\n",
    "val_loader = DataLoader(val_dataset, batch_size=15, shuffle=False, num_workers=2)"
   ],
   "metadata": {
    "id": "ZsNAEGbziCcG",
    "pycharm": {
     "name": "#%%\n"
    }
   },
   "execution_count": 83,
   "outputs": []
  },
  {
   "cell_type": "code",
   "source": [
    "x,y = next(iter(train_loader))"
   ],
   "metadata": {
    "id": "PVBv65o0z5pJ",
    "pycharm": {
     "name": "#%%\n"
    }
   },
   "execution_count": 84,
   "outputs": []
  },
  {
   "cell_type": "code",
   "source": [
    "x.shape"
   ],
   "metadata": {
    "colab": {
     "base_uri": "https://localhost:8080/"
    },
    "id": "oyUTKutS0BLd",
    "outputId": "a5ca357f-ff49-4190-8e46-3c536e73b8af",
    "pycharm": {
     "name": "#%%\n"
    }
   },
   "execution_count": 85,
   "outputs": [
    {
     "output_type": "execute_result",
     "data": {
      "text/plain": [
       "torch.Size([15, 3, 16, 112, 112])"
      ]
     },
     "metadata": {},
     "execution_count": 85
    }
   ]
  },
  {
   "cell_type": "code",
   "source": [
    "y.shape"
   ],
   "metadata": {
    "colab": {
     "base_uri": "https://localhost:8080/"
    },
    "id": "jI-MslLj0bVW",
    "outputId": "887b0a40-bf9b-4a37-f347-dd8077a0f956",
    "pycharm": {
     "name": "#%%\n"
    }
   },
   "execution_count": 86,
   "outputs": [
    {
     "output_type": "execute_result",
     "data": {
      "text/plain": [
       "torch.Size([15])"
      ]
     },
     "metadata": {},
     "execution_count": 86
    }
   ]
  },
  {
   "cell_type": "code",
   "source": [
    "class MobileNet3D_V2(nn.Module):\n",
    "\n",
    "    def __init__(self, num_classes):\n",
    "        super(MobileNet3D_V2, self).__init__()\n",
    "\n",
    "        self.conv1 = nn.Conv3d(in_channels=3, out_channels=32, kernel_size=(3, 3, 3), stride=(1, 2, 2), padding=1)\n",
    "\n",
    "        self.mobileblock1_1 = nn.Sequential(\n",
    "            nn.Conv3d(in_channels=32, out_channels=192, kernel_size=(1, 1, 1), stride=(1, 1, 1)),\n",
    "            nn.BatchNorm3d(192),\n",
    "            nn.ReLU6(),\n",
    "            nn.Conv3d(in_channels=192, out_channels=192, kernel_size=(3, 3, 3), stride=(1, 1, 1), padding=1, groups=192),\n",
    "            nn.BatchNorm3d(192),\n",
    "            nn.ReLU6(),\n",
    "            nn.Conv3d(in_channels=192, out_channels=32, kernel_size=(1, 1, 1), stride=(1, 1, 1)),\n",
    "            nn.BatchNorm3d(32)\n",
    "        )\n",
    "\n",
    "        self.mobileblock1_2 = nn.Sequential(\n",
    "            nn.Conv3d(in_channels=32, out_channels=192, kernel_size=(1, 1, 1), stride=(1, 1, 1)),\n",
    "            nn.BatchNorm3d(192),\n",
    "            nn.ReLU6(),\n",
    "            nn.Conv3d(in_channels=192, out_channels=192, kernel_size=(3, 3, 3), stride=(1, 1, 1), padding=1, groups=192),\n",
    "            nn.BatchNorm3d(192),\n",
    "            nn.ReLU6(),\n",
    "            nn.Conv3d(in_channels=192, out_channels=16, kernel_size=(1, 1, 1), stride=(1, 1, 1)),\n",
    "            nn.BatchNorm3d(16)\n",
    "        )\n",
    "\n",
    "        self.mobileblock2_1 = nn.Sequential(\n",
    "            nn.Conv3d(in_channels=16, out_channels=96, kernel_size=(1, 1, 1), stride=(1, 1, 1)),\n",
    "            nn.BatchNorm3d(96),\n",
    "            nn.ReLU6(),\n",
    "            nn.Conv3d(in_channels=96, out_channels=96, kernel_size=(3, 3, 3), stride=(1, 1, 1), padding=1, groups=96),\n",
    "            nn.BatchNorm3d(96),\n",
    "            nn.ReLU6(),\n",
    "            nn.Conv3d(in_channels=96, out_channels=16, kernel_size=(1, 1, 1), stride=(1, 1, 1)),\n",
    "            nn.BatchNorm3d(16)\n",
    "        )\n",
    "\n",
    "        self.mobileblock2_2 = nn.Sequential(\n",
    "            nn.Conv3d(in_channels=16, out_channels=96, kernel_size=(1, 1, 1), stride=(1, 1, 1)),\n",
    "            nn.BatchNorm3d(96),\n",
    "            nn.ReLU6(),\n",
    "            nn.Conv3d(in_channels=96, out_channels=96, kernel_size=(3, 3, 3), stride=(2, 2, 2), padding=1, groups=96),\n",
    "            nn.BatchNorm3d(96),\n",
    "            nn.ReLU6(),\n",
    "            nn.Conv3d(in_channels=96, out_channels=24, kernel_size=(1, 1, 1), stride=(1, 1, 1)),\n",
    "            nn.BatchNorm3d(24)\n",
    "        )\n",
    "\n",
    "        self.mobileblock2_1_r = nn.Sequential(\n",
    "            nn.Conv3d(in_channels=24, out_channels=144, kernel_size=(1, 1, 1), stride=(1, 1, 1)),\n",
    "            nn.BatchNorm3d(144),\n",
    "            nn.ReLU6(),\n",
    "            nn.Conv3d(in_channels=144, out_channels=144, kernel_size=(3, 3, 3), stride=(1, 1, 1), padding=1, groups=144),\n",
    "            nn.BatchNorm3d(144),\n",
    "            nn.ReLU6(),\n",
    "            nn.Conv3d(in_channels=144, out_channels=24, kernel_size=(1, 1, 1), stride=(1, 1, 1)),\n",
    "            nn.BatchNorm3d(24)\n",
    "        )\n",
    "\n",
    "        self.mobileblock2_2_r = nn.Sequential(\n",
    "            nn.Conv3d(in_channels=24, out_channels=144, kernel_size=(1, 1, 1), stride=(1, 1, 1)),\n",
    "            nn.BatchNorm3d(144),\n",
    "            nn.ReLU6(),\n",
    "            nn.Conv3d(in_channels=144, out_channels=144, kernel_size=(3, 3, 3), stride=(1, 1, 1), padding=1, groups=144),\n",
    "            nn.BatchNorm3d(144),\n",
    "            nn.ReLU6(),\n",
    "            nn.Conv3d(in_channels=144, out_channels=24, kernel_size=(1, 1, 1), stride=(1, 1, 1)),\n",
    "            nn.BatchNorm3d(24)\n",
    "        )\n",
    "\n",
    "        self.mobileblock3_1 = nn.Sequential(\n",
    "            nn.Conv3d(in_channels=24, out_channels=144, kernel_size=(1, 1, 1), stride=(1, 1, 1)),\n",
    "            nn.BatchNorm3d(144),\n",
    "            nn.ReLU6(),\n",
    "            nn.Conv3d(in_channels=144, out_channels=144, kernel_size=(3, 3, 3), stride=(1, 1, 1), padding=1, groups=144),\n",
    "            nn.BatchNorm3d(144),\n",
    "            nn.ReLU6(),\n",
    "            nn.Conv3d(in_channels=144, out_channels=24, kernel_size=(1, 1, 1), stride=(1, 1, 1)),\n",
    "            nn.BatchNorm3d(24)\n",
    "        )\n",
    "\n",
    "        self.mobileblock3_2 = nn.Sequential(\n",
    "            nn.Conv3d(in_channels=24, out_channels=144, kernel_size=(1, 1, 1), stride=(1, 1, 1)),\n",
    "            nn.BatchNorm3d(144),\n",
    "            nn.ReLU6(),\n",
    "            nn.Conv3d(in_channels=144, out_channels=144, kernel_size=(3, 3, 3), stride=(2, 2, 2), padding=1, groups=144),\n",
    "            nn.BatchNorm3d(144),\n",
    "            nn.ReLU6(),\n",
    "            nn.Conv3d(in_channels=144, out_channels=32, kernel_size=(1, 1, 1), stride=(1, 1, 1)),\n",
    "            nn.BatchNorm3d(32)\n",
    "        )\n",
    "\n",
    "        self.mobileblock3_1_r = nn.Sequential(\n",
    "            nn.Conv3d(in_channels=32, out_channels=192, kernel_size=(1, 1, 1), stride=(1, 1, 1)),\n",
    "            nn.BatchNorm3d(192),\n",
    "            nn.ReLU6(),\n",
    "            nn.Conv3d(in_channels=192, out_channels=192, kernel_size=(3, 3, 3), stride=(1, 1, 1), padding=1, groups=192),\n",
    "            nn.BatchNorm3d(192),\n",
    "            nn.ReLU6(),\n",
    "            nn.Conv3d(in_channels=192, out_channels=32, kernel_size=(1, 1, 1), stride=(1, 1, 1)),\n",
    "            nn.BatchNorm3d(32)\n",
    "        )\n",
    "\n",
    "        self.mobileblock3_2_r = nn.Sequential(\n",
    "            nn.Conv3d(in_channels=32, out_channels=192, kernel_size=(1, 1, 1), stride=(1, 1, 1)),\n",
    "            nn.BatchNorm3d(192),\n",
    "            nn.ReLU6(),\n",
    "            nn.Conv3d(in_channels=192, out_channels=192, kernel_size=(3, 3, 3), stride=(1, 1, 1), padding=1, groups=192),\n",
    "            nn.BatchNorm3d(192),\n",
    "            nn.ReLU6(),\n",
    "            nn.Conv3d(in_channels=192, out_channels=32, kernel_size=(1, 1, 1), stride=(1, 1, 1)),\n",
    "            nn.BatchNorm3d(32)\n",
    "        )\n",
    "\n",
    "        self.mobileblock4_1 = nn.Sequential(\n",
    "            nn.Conv3d(in_channels=32, out_channels=192, kernel_size=(1, 1, 1), stride=(1, 1, 1)),\n",
    "            nn.BatchNorm3d(192),\n",
    "            nn.ReLU6(),\n",
    "            nn.Conv3d(in_channels=192, out_channels=192, kernel_size=(3, 3, 3), stride=(1, 1, 1), padding=1, groups=192),\n",
    "            nn.BatchNorm3d(192),\n",
    "            nn.ReLU6(),\n",
    "            nn.Conv3d(in_channels=192, out_channels=32, kernel_size=(1, 1, 1), stride=(1, 1, 1)),\n",
    "            nn.BatchNorm3d(32)\n",
    "        )\n",
    "\n",
    "        self.mobileblock4_2 = nn.Sequential(\n",
    "            nn.Conv3d(in_channels=32, out_channels=192, kernel_size=(1, 1, 1), stride=(1, 1, 1)),\n",
    "            nn.BatchNorm3d(192),\n",
    "            nn.ReLU6(),\n",
    "            nn.Conv3d(in_channels=192, out_channels=192, kernel_size=(3, 3, 3), stride=(2, 2, 2), padding=1, groups=192),\n",
    "            nn.BatchNorm3d(192),\n",
    "            nn.ReLU6(),\n",
    "            nn.Conv3d(in_channels=192, out_channels=64, kernel_size=(1, 1, 1), stride=(1, 1, 1)),\n",
    "            nn.BatchNorm3d(64)\n",
    "        )\n",
    "\n",
    "        self.mobileblock4_1_r = nn.Sequential(\n",
    "            nn.Conv3d(in_channels=64, out_channels=384, kernel_size=(1, 1, 1), stride=(1, 1, 1)),\n",
    "            nn.BatchNorm3d(384),\n",
    "            nn.ReLU6(),\n",
    "            nn.Conv3d(in_channels=384, out_channels=384, kernel_size=(3, 3, 3), stride=(1, 1, 1), padding=1, groups=384),\n",
    "            nn.BatchNorm3d(384),\n",
    "            nn.ReLU6(),\n",
    "            nn.Conv3d(in_channels=384, out_channels=64, kernel_size=(1, 1, 1), stride=(1, 1, 1)),\n",
    "            nn.BatchNorm3d(64)\n",
    "        )\n",
    "\n",
    "        self.mobileblock4_2_r = nn.Sequential(\n",
    "            nn.Conv3d(in_channels=64, out_channels=384, kernel_size=(1, 1, 1), stride=(1, 1, 1)),\n",
    "            nn.BatchNorm3d(384),\n",
    "            nn.ReLU6(),\n",
    "            nn.Conv3d(in_channels=384, out_channels=384, kernel_size=(3, 3, 3), stride=(1, 1, 1), padding=1, groups=384),\n",
    "            nn.BatchNorm3d(384),\n",
    "            nn.ReLU6(),\n",
    "            nn.Conv3d(in_channels=384, out_channels=64, kernel_size=(1, 1, 1), stride=(1, 1, 1)),\n",
    "            nn.BatchNorm3d(64)\n",
    "        )\n",
    "\n",
    "        self.mobileblock5_1 = nn.Sequential(\n",
    "            nn.Conv3d(in_channels=64, out_channels=384, kernel_size=(1, 1, 1), stride=(1, 1, 1)),\n",
    "            nn.BatchNorm3d(384),\n",
    "            nn.ReLU6(),\n",
    "            nn.Conv3d(in_channels=384, out_channels=384, kernel_size=(3, 3, 3), stride=(1, 1, 1), padding=1, groups=384),\n",
    "            nn.BatchNorm3d(384),\n",
    "            nn.ReLU6(),\n",
    "            nn.Conv3d(in_channels=384, out_channels=64, kernel_size=(1, 1, 1), stride=(1, 1, 1)),\n",
    "            nn.BatchNorm3d(64)\n",
    "        )\n",
    "\n",
    "        self.mobileblock5_2 = nn.Sequential(\n",
    "            nn.Conv3d(in_channels=64, out_channels=384, kernel_size=(1, 1, 1), stride=(1, 1, 1)),\n",
    "            nn.BatchNorm3d(384),\n",
    "            nn.ReLU6(),\n",
    "            nn.Conv3d(in_channels=384, out_channels=384, kernel_size=(3, 3, 3), stride=(1, 1, 1), padding=1, groups=384),\n",
    "            nn.BatchNorm3d(384),\n",
    "            nn.ReLU6(),\n",
    "            nn.Conv3d(in_channels=384, out_channels=96, kernel_size=(1, 1, 1), stride=(1, 1, 1)),\n",
    "            nn.BatchNorm3d(96)\n",
    "        )\n",
    "\n",
    "        self.mobileblock5_1_r = nn.Sequential(\n",
    "            nn.Conv3d(in_channels=96, out_channels=576, kernel_size=(1, 1, 1), stride=(1, 1, 1)),\n",
    "            nn.BatchNorm3d(576),\n",
    "            nn.ReLU6(),\n",
    "            nn.Conv3d(in_channels=576, out_channels=576, kernel_size=(3, 3, 3), stride=(1, 1, 1), padding=1, groups=576),\n",
    "            nn.BatchNorm3d(576),\n",
    "            nn.ReLU6(),\n",
    "            nn.Conv3d(in_channels=576, out_channels=96, kernel_size=(1, 1, 1), stride=(1, 1, 1)),\n",
    "            nn.BatchNorm3d(96)\n",
    "        )\n",
    "\n",
    "        self.mobileblock5_2_r = nn.Sequential(\n",
    "            nn.Conv3d(in_channels=96, out_channels=576, kernel_size=(1, 1, 1), stride=(1, 1, 1)),\n",
    "            nn.BatchNorm3d(576),\n",
    "            nn.ReLU6(),\n",
    "            nn.Conv3d(in_channels=576, out_channels=576, kernel_size=(3, 3, 3), stride=(1, 1, 1), padding=1, groups=576),\n",
    "            nn.BatchNorm3d(576),\n",
    "            nn.ReLU6(),\n",
    "            nn.Conv3d(in_channels=576, out_channels=96, kernel_size=(1, 1, 1), stride=(1, 1, 1)),\n",
    "            nn.BatchNorm3d(96)\n",
    "        )\n",
    "\n",
    "        self.mobileblock6_1 = nn.Sequential(\n",
    "            nn.Conv3d(in_channels=96, out_channels=576, kernel_size=(1, 1, 1), stride=(1, 1, 1)),\n",
    "            nn.BatchNorm3d(576),\n",
    "            nn.ReLU6(),\n",
    "            nn.Conv3d(in_channels=576, out_channels=576, kernel_size=(3, 3, 3), stride=(1, 1, 1), padding=1, groups=576),\n",
    "            nn.BatchNorm3d(576),\n",
    "            nn.ReLU6(),\n",
    "            nn.Conv3d(in_channels=576, out_channels=96, kernel_size=(1, 1, 1), stride=(1, 1, 1)),\n",
    "            nn.BatchNorm3d(96)\n",
    "        )\n",
    "\n",
    "        self.mobileblock6_2 = nn.Sequential(\n",
    "            nn.Conv3d(in_channels=96, out_channels=576, kernel_size=(1, 1, 1), stride=(1, 1, 1)),\n",
    "            nn.BatchNorm3d(576),\n",
    "            nn.ReLU6(),\n",
    "            nn.Conv3d(in_channels=576, out_channels=576, kernel_size=(3, 3, 3), stride=(2, 2, 2), padding=1, groups=576),\n",
    "            nn.BatchNorm3d(576),\n",
    "            nn.ReLU6(),\n",
    "            nn.Conv3d(in_channels=576, out_channels=160, kernel_size=(1, 1, 1), stride=(1, 1, 1)),\n",
    "            nn.BatchNorm3d(160)\n",
    "        )\n",
    "\n",
    "        self.mobileblock6_1_r = nn.Sequential(\n",
    "            nn.Conv3d(in_channels=160, out_channels=960, kernel_size=(1, 1, 1), stride=(1, 1, 1)),\n",
    "            nn.BatchNorm3d(960),\n",
    "            nn.ReLU6(),\n",
    "            nn.Conv3d(in_channels=960, out_channels=960, kernel_size=(3, 3, 3), stride=(1, 1, 1), padding=1, groups=960),\n",
    "            nn.BatchNorm3d(960),\n",
    "            nn.ReLU6(),\n",
    "            nn.Conv3d(in_channels=960, out_channels=160, kernel_size=(1, 1, 1), stride=(1, 1, 1)),\n",
    "            nn.BatchNorm3d(160)\n",
    "        )\n",
    "\n",
    "        self.mobileblock6_2_r = nn.Sequential(\n",
    "            nn.Conv3d(in_channels=160, out_channels=960, kernel_size=(1, 1, 1), stride=(1, 1, 1)),\n",
    "            nn.BatchNorm3d(960),\n",
    "            nn.ReLU6(),\n",
    "            nn.Conv3d(in_channels=960, out_channels=960, kernel_size=(3, 3, 3), stride=(1, 1, 1), padding=1, groups=960),\n",
    "            nn.BatchNorm3d(960),\n",
    "            nn.ReLU6(),\n",
    "            nn.Conv3d(in_channels=960, out_channels=160, kernel_size=(1, 1, 1), stride=(1, 1, 1)),\n",
    "            nn.BatchNorm3d(160)\n",
    "        )\n",
    "\n",
    "        self.mobileblock7_1 = nn.Sequential(\n",
    "            nn.Conv3d(in_channels=160, out_channels=960, kernel_size=(1, 1, 1), stride=(1, 1, 1)),\n",
    "            nn.BatchNorm3d(960),\n",
    "            nn.ReLU6(),\n",
    "            nn.Conv3d(in_channels=960, out_channels=960, kernel_size=(3, 3, 3), stride=(1, 1, 1), padding=1, groups=960),\n",
    "            nn.BatchNorm3d(960),\n",
    "            nn.ReLU6(),\n",
    "            nn.Conv3d(in_channels=960, out_channels=160, kernel_size=(1, 1, 1), stride=(1, 1, 1)),\n",
    "            nn.BatchNorm3d(160)\n",
    "        )\n",
    "\n",
    "        self.mobileblock7_2 = nn.Sequential(\n",
    "            nn.Conv3d(in_channels=160, out_channels=960, kernel_size=(1, 1, 1), stride=(1, 1, 1)),\n",
    "            nn.BatchNorm3d(960),\n",
    "            nn.ReLU6(),\n",
    "            nn.Conv3d(in_channels=960, out_channels=960, kernel_size=(3, 3, 3), stride=(1, 1, 1), padding=1, groups=960),\n",
    "            nn.BatchNorm3d(960),\n",
    "            nn.ReLU6(),\n",
    "            nn.Conv3d(in_channels=960, out_channels=320, kernel_size=(1, 1, 1), stride=(1, 1, 1)),\n",
    "            nn.BatchNorm3d(320)\n",
    "        )\n",
    "\n",
    "        self.conv8 = nn.Conv3d(in_channels=320, out_channels=1280, kernel_size=(1, 1, 1), stride=(1, 1, 1))\n",
    "        self.avgpool = nn.AvgPool3d(kernel_size=(1, 4, 4), stride=(1, 1, 1))\n",
    "        self.linear = nn.Linear(1280, num_classes)\n",
    "        self.flatten = nn.Flatten()\n",
    "        self.relu = nn.ReLU()\n",
    "\n",
    "    def forward(self, x):\n",
    "        x = self.relu(self.conv1(x))\n",
    "\n",
    "        x = self.mobileblock1_1(x) + x\n",
    "        x = self.mobileblock1_2(x)\n",
    "\n",
    "        x = self.mobileblock2_1(x) + x\n",
    "        x = self.mobileblock2_2(x)\n",
    "        x = self.mobileblock2_1_r(x) + x\n",
    "        x = self.mobileblock2_2_r(x)\n",
    "\n",
    "        x = self.mobileblock3_1(x) + x\n",
    "        x = self.mobileblock3_2(x)\n",
    "        x = self.mobileblock3_1_r(x) + x\n",
    "        x = self.mobileblock3_2_r(x)\n",
    "        x = self.mobileblock3_1_r(x) + x\n",
    "        x = self.mobileblock3_2_r(x)\n",
    "\n",
    "        x = self.mobileblock4_1(x) + x\n",
    "        x = self.mobileblock4_2(x)\n",
    "        x = self.mobileblock4_1_r(x) + x\n",
    "        x = self.mobileblock4_2_r(x)\n",
    "        x = self.mobileblock4_1_r(x) + x\n",
    "        x = self.mobileblock4_2_r(x)\n",
    "        x = self.mobileblock4_1_r(x) + x\n",
    "        x = self.mobileblock4_2_r(x)\n",
    "\n",
    "        x = self.mobileblock5_1(x) + x\n",
    "        x = self.mobileblock5_2(x)\n",
    "        x = self.mobileblock5_1_r(x) + x\n",
    "        x = self.mobileblock5_2_r(x)\n",
    "        x = self.mobileblock5_1_r(x) + x\n",
    "        x = self.mobileblock5_2_r(x)\n",
    "\n",
    "        x = self.mobileblock6_1(x) + x\n",
    "        x = self.mobileblock6_2(x)\n",
    "        x = self.mobileblock6_1_r(x) + x\n",
    "        x = self.mobileblock6_2_r(x)\n",
    "        x = self.mobileblock6_1_r(x) + x\n",
    "        x = self.mobileblock6_2_r(x)\n",
    "\n",
    "        x = self.mobileblock7_1(x) + x\n",
    "        x = self.mobileblock7_2(x)\n",
    "\n",
    "        x = self.relu(self.conv8(x))\n",
    "        x = self.avgpool(x)\n",
    "        x = self.flatten(x)\n",
    "        output = self.linear(x)\n",
    "        return output"
   ],
   "metadata": {
    "id": "U-Png1Lf0cgQ",
    "pycharm": {
     "name": "#%%\n"
    }
   },
   "execution_count": 87,
   "outputs": []
  },
  {
   "cell_type": "code",
   "source": [
    "!pip install torchmetrics clearml"
   ],
   "metadata": {
    "colab": {
     "base_uri": "https://localhost:8080/"
    },
    "id": "GB9vhBVQ5jV4",
    "outputId": "160ddb0b-dafd-4f48-8835-409362929a1e",
    "pycharm": {
     "name": "#%%\n"
    }
   },
   "execution_count": 88,
   "outputs": [
    {
     "output_type": "stream",
     "name": "stdout",
     "text": [
      "Looking in indexes: https://pypi.org/simple, https://us-python.pkg.dev/colab-wheels/public/simple/\n",
      "Requirement already satisfied: torchmetrics in /usr/local/lib/python3.10/dist-packages (0.11.4)\n",
      "Requirement already satisfied: clearml in /usr/local/lib/python3.10/dist-packages (1.11.0)\n",
      "Requirement already satisfied: numpy>=1.17.2 in /usr/local/lib/python3.10/dist-packages (from torchmetrics) (1.22.4)\n",
      "Requirement already satisfied: torch>=1.8.1 in /usr/local/lib/python3.10/dist-packages (from torchmetrics) (2.0.1+cu118)\n",
      "Requirement already satisfied: packaging in /usr/local/lib/python3.10/dist-packages (from torchmetrics) (23.1)\n",
      "Requirement already satisfied: attrs>=18.0 in /usr/local/lib/python3.10/dist-packages (from clearml) (23.1.0)\n",
      "Requirement already satisfied: furl>=2.0.0 in /usr/local/lib/python3.10/dist-packages (from clearml) (2.1.3)\n",
      "Requirement already satisfied: jsonschema>=2.6.0 in /usr/local/lib/python3.10/dist-packages (from clearml) (4.3.3)\n",
      "Requirement already satisfied: pathlib2>=2.3.0 in /usr/local/lib/python3.10/dist-packages (from clearml) (2.3.7.post1)\n",
      "Requirement already satisfied: Pillow>=4.1.1 in /usr/local/lib/python3.10/dist-packages (from clearml) (8.4.0)\n",
      "Requirement already satisfied: psutil>=3.4.2 in /usr/local/lib/python3.10/dist-packages (from clearml) (5.9.5)\n",
      "Requirement already satisfied: pyparsing>=2.0.3 in /usr/local/lib/python3.10/dist-packages (from clearml) (3.0.9)\n",
      "Requirement already satisfied: python-dateutil>=2.6.1 in /usr/local/lib/python3.10/dist-packages (from clearml) (2.8.2)\n",
      "Requirement already satisfied: PyYAML>=3.12 in /usr/local/lib/python3.10/dist-packages (from clearml) (6.0)\n",
      "Requirement already satisfied: requests>=2.20.0 in /usr/local/lib/python3.10/dist-packages (from clearml) (2.27.1)\n",
      "Requirement already satisfied: six>=1.13.0 in /usr/local/lib/python3.10/dist-packages (from clearml) (1.16.0)\n",
      "Requirement already satisfied: urllib3>=1.21.1 in /usr/local/lib/python3.10/dist-packages (from clearml) (1.26.15)\n",
      "Requirement already satisfied: pyjwt<2.5.0,>=2.4.0 in /usr/local/lib/python3.10/dist-packages (from clearml) (2.4.0)\n",
      "Requirement already satisfied: orderedmultidict>=1.0.1 in /usr/local/lib/python3.10/dist-packages (from furl>=2.0.0->clearml) (1.0.1)\n",
      "Requirement already satisfied: pyrsistent!=0.17.0,!=0.17.1,!=0.17.2,>=0.14.0 in /usr/local/lib/python3.10/dist-packages (from jsonschema>=2.6.0->clearml) (0.19.3)\n",
      "Requirement already satisfied: certifi>=2017.4.17 in /usr/local/lib/python3.10/dist-packages (from requests>=2.20.0->clearml) (2022.12.7)\n",
      "Requirement already satisfied: charset-normalizer~=2.0.0 in /usr/local/lib/python3.10/dist-packages (from requests>=2.20.0->clearml) (2.0.12)\n",
      "Requirement already satisfied: idna<4,>=2.5 in /usr/local/lib/python3.10/dist-packages (from requests>=2.20.0->clearml) (3.4)\n",
      "Requirement already satisfied: filelock in /usr/local/lib/python3.10/dist-packages (from torch>=1.8.1->torchmetrics) (3.12.0)\n",
      "Requirement already satisfied: typing-extensions in /usr/local/lib/python3.10/dist-packages (from torch>=1.8.1->torchmetrics) (4.5.0)\n",
      "Requirement already satisfied: sympy in /usr/local/lib/python3.10/dist-packages (from torch>=1.8.1->torchmetrics) (1.11.1)\n",
      "Requirement already satisfied: networkx in /usr/local/lib/python3.10/dist-packages (from torch>=1.8.1->torchmetrics) (3.1)\n",
      "Requirement already satisfied: jinja2 in /usr/local/lib/python3.10/dist-packages (from torch>=1.8.1->torchmetrics) (3.1.2)\n",
      "Requirement already satisfied: triton==2.0.0 in /usr/local/lib/python3.10/dist-packages (from torch>=1.8.1->torchmetrics) (2.0.0)\n",
      "Requirement already satisfied: cmake in /usr/local/lib/python3.10/dist-packages (from triton==2.0.0->torch>=1.8.1->torchmetrics) (3.25.2)\n",
      "Requirement already satisfied: lit in /usr/local/lib/python3.10/dist-packages (from triton==2.0.0->torch>=1.8.1->torchmetrics) (16.0.5)\n",
      "Requirement already satisfied: MarkupSafe>=2.0 in /usr/local/lib/python3.10/dist-packages (from jinja2->torch>=1.8.1->torchmetrics) (2.1.2)\n",
      "Requirement already satisfied: mpmath>=0.19 in /usr/local/lib/python3.10/dist-packages (from sympy->torch>=1.8.1->torchmetrics) (1.3.0)\n"
     ]
    }
   ]
  },
  {
   "cell_type": "code",
   "source": [
    "from clearml import Task\n",
    "from torchmetrics.classification import MulticlassAccuracy\n",
    "from torchmetrics.classification import MulticlassPrecision\n",
    "from torchmetrics.classification import MulticlassRecall\n",
    "from torchmetrics.classification import MulticlassF1Score\n"
   ],
   "metadata": {
    "id": "gmCzS-C-56bb",
    "pycharm": {
     "name": "#%%\n"
    }
   },
   "execution_count": 89,
   "outputs": []
  },
  {
   "cell_type": "code",
   "source": [
    "%env CLEARML_WEB_HOST=https://app.clear.ml\n",
    "%env CLEARML_API_HOST=https://api.clear.ml\n",
    "%env CLEARML_FILES_HOST=https://files.clear.ml\n",
    "%env CLEARML_API_ACCESS_KEY=XW4OVGJGN4GTGHJ31PKP\n",
    "%env CLEARML_API_SECRET_KEY=pLyGTZPdLNL4841KrZHaQL50CT0odPu3NwIiGJM7FSdkwOHDy6"
   ],
   "metadata": {
    "colab": {
     "base_uri": "https://localhost:8080/"
    },
    "id": "oPZWVbca6nXQ",
    "outputId": "47e78b51-8dab-4879-af62-02a3f22c494e",
    "pycharm": {
     "name": "#%%\n"
    }
   },
   "execution_count": 90,
   "outputs": [
    {
     "output_type": "stream",
     "name": "stdout",
     "text": [
      "env: CLEARML_WEB_HOST=https://app.clear.ml\n",
      "env: CLEARML_API_HOST=https://api.clear.ml\n",
      "env: CLEARML_FILES_HOST=https://files.clear.ml\n",
      "env: CLEARML_API_ACCESS_KEY=XW4OVGJGN4GTGHJ31PKP\n",
      "env: CLEARML_API_SECRET_KEY=pLyGTZPdLNL4841KrZHaQL50CT0odPu3NwIiGJM7FSdkwOHDy6\n"
     ]
    }
   ]
  },
  {
   "cell_type": "code",
   "source": [
    "num_epochs = 10\n",
    "lr = 1e-3\n",
    "\n",
    "#инициализация эксперимента\n",
    "task = Task.init(\n",
    "    project_name='Action-classification',\n",
    "    task_name='test_training_2'\n",
    ")\n",
    "\n",
    "logger = task.get_logger()\n",
    "\n",
    "# инициализация модели\n",
    "model = MobileNet3D_V2(num_classes=15)\n",
    "model = model.to(device)\n",
    "\n",
    "# оптимизатор\n",
    "optimizer = torch.optim.AdamW(model.parameters(), lr=lr)\n",
    "\n",
    "# гиперпараметры для логирования\n",
    "parameters = {'optimizer': 'AdamW',\n",
    "              'lr': lr,\n",
    "              'num_epochs': num_epochs\n",
    "              }\n",
    "\n",
    "task.connect(parameters)"
   ],
   "metadata": {
    "colab": {
     "base_uri": "https://localhost:8080/"
    },
    "id": "N8G2XNu053Uu",
    "outputId": "b1caffbe-349b-4c78-af84-976649008eeb",
    "pycharm": {
     "name": "#%%\n"
    }
   },
   "execution_count": 97,
   "outputs": [
    {
     "output_type": "execute_result",
     "data": {
      "text/plain": [
       "{'optimizer': 'AdamW', 'lr': 0.001, 'num_epochs': 10}"
      ]
     },
     "metadata": {},
     "execution_count": 97
    }
   ]
  },
  {
   "cell_type": "code",
   "source": [
    "from sklearn.metrics import accuracy_score, precision_score, recall_score, f1_score"
   ],
   "metadata": {
    "id": "uIjXontq917H",
    "pycharm": {
     "name": "#%%\n"
    }
   },
   "execution_count": 92,
   "outputs": []
  },
  {
   "cell_type": "code",
   "source": [
    "def train(model,\n",
    "          num_epochs,\n",
    "          train_loader,\n",
    "          val_loader,\n",
    "          optimizer,\n",
    "          scheduler=None,\n",
    "          device=device,\n",
    "          loss_fn=nn.CrossEntropyLoss()\n",
    "          ):\n",
    "\n",
    "\n",
    "    train_loss = []\n",
    "    val_loss = []\n",
    "\n",
    "    accuracy_preds = []\n",
    "    precision_preds = []\n",
    "    recall_preds = []\n",
    "    f1_preds = []\n",
    "    targets = []\n",
    "\n",
    "    for epoch in tqdm(range(num_epochs)):\n",
    "\n",
    "        model.train()\n",
    "        for features, labels in train_loader:\n",
    "            features = features.to(device)\n",
    "            labels = labels.to(device)\n",
    "\n",
    "            optimizer.zero_grad()\n",
    "            outputs = model(features.float())\n",
    "            loss_train = loss_fn(outputs, labels)\n",
    "            loss_train.backward()\n",
    "            optimizer.step()\n",
    "\n",
    "            train_loss.append(loss_train.detach().item())\n",
    "\n",
    "            with torch.no_grad():\n",
    "                labels = labels.cpu()\n",
    "                outputs = outputs.argmax(dim=1).cpu()\n",
    "                accuracy_preds.extend(outputs)\n",
    "                precision_preds.extend(outputs)\n",
    "                recall_preds.extend(outputs)\n",
    "                f1_preds.extend(outputs)\n",
    "                targets.extend(labels)\n",
    "\n",
    "        logger.report_scalar(title='Train/Validation Loss', series='Train loss', iteration=epoch, value=np.mean(train_loss))\n",
    "        logger.report_scalar(title='Metrics train', series='Accuracy', iteration=epoch, value=accuracy_score(accuracy_preds, targets))\n",
    "        logger.report_scalar(title='Metrics train', series='Precision', iteration=epoch, value=precision_score(precision_preds, targets, average='macro'))\n",
    "        logger.report_scalar(title='Metrics train', series='Recall', iteration=epoch, value=recall_score(recall_preds, targets, average='macro'))\n",
    "        logger.report_scalar(title='Metrics train', series='F1_score', iteration=epoch, value=f1_score(f1_preds, targets, average='macro'))\n",
    "\n",
    "        train_loss.clear()\n",
    "        accuracy_preds.clear()\n",
    "        precision_preds.clear()\n",
    "        recall_preds.clear()\n",
    "        f1_preds.clear()\n",
    "        targets.clear()\n",
    "\n",
    "        model.eval()\n",
    "        with torch.no_grad():\n",
    "            for features, labels in val_loader:\n",
    "                features = features.to(device)\n",
    "                labels = labels.to(device)\n",
    "                outputs = model(features.float())\n",
    "                loss_val = loss_fn(outputs, labels)\n",
    "\n",
    "                val_loss.append(loss_val.item())\n",
    "\n",
    "                labels = labels.cpu()\n",
    "                outputs = outputs.argmax(dim=1).cpu()\n",
    "\n",
    "                accuracy_preds.extend(outputs)\n",
    "                precision_preds.extend(outputs)\n",
    "                recall_preds.extend(outputs)\n",
    "                f1_preds.extend(outputs)\n",
    "                targets.extend(labels)\n",
    "\n",
    "        logger.report_scalar(title='Train/Validation Loss', series='Validation loss', iteration=epoch, value=np.mean(val_loss))\n",
    "        logger.report_scalar(title='Metrics val', series='Accuracy', iteration=epoch, value=accuracy_score(accuracy_preds, targets))\n",
    "        logger.report_scalar(title='Metrics val', series='Precision', iteration=epoch, value=precision_score(precision_preds, targets, average='macro'))\n",
    "        logger.report_scalar(title='Metrics val', series='Recall', iteration=epoch, value=recall_score(recall_preds, targets, average='macro'))\n",
    "        logger.report_scalar(title='Metrics val', series='F1_score', iteration=epoch, value=f1_score(f1_preds, targets, average='macro'))\n",
    "\n",
    "        val_loss.clear()\n",
    "        accuracy_preds.clear()\n",
    "        precision_preds.clear()\n",
    "        recall_preds.clear()\n",
    "        f1_preds.clear()\n",
    "        targets.clear()\n",
    "\n",
    "        if scheduler:\n",
    "           scheduler.step()\n",
    "\n",
    "        torch.save(model.state_dict(), f'MobileNet3D_V2_{epoch+1}.pt')\n",
    "\n",
    "    return model"
   ],
   "metadata": {
    "id": "8XHjgJ_i14Aw",
    "pycharm": {
     "name": "#%%\n"
    }
   },
   "execution_count": 98,
   "outputs": []
  },
  {
   "cell_type": "code",
   "source": [
    "train(model,\n",
    "      num_epochs,\n",
    "      train_loader,\n",
    "      val_loader,\n",
    "      optimizer\n",
    "      )"
   ],
   "metadata": {
    "colab": {
     "base_uri": "https://localhost:8080/",
     "height": 1000,
     "referenced_widgets": [
      "e86ddec1ac07485a976f4959091cede4",
      "a94d4173d76943689944737210abfbce",
      "d2ebe6ed7ef64a628032b6e714f75722",
      "30cdcd1dda9c4046a0b980924f0d9e56",
      "e8955c29a5774d1e9407d775bdc2adc7",
      "76c4476c7f5343908ff73a288ec6255b",
      "a77796b5fb234c38b9cf1018935d3412",
      "370ac6b91b6f49fbb5de5d02c049838d",
      "7ac7ba1695254fc9b6554a8e631a2f19",
      "38dc731c3e41439caa19be6200efbb32",
      "5b91bf82fced461d8a1e2b918910203b"
     ]
    },
    "id": "FFoCmouO66eX",
    "outputId": "504b71e7-d56a-45d2-ac36-2573d69d5665",
    "pycharm": {
     "name": "#%%\n"
    }
   },
   "execution_count": 103,
   "outputs": [
    {
     "output_type": "display_data",
     "data": {
      "text/plain": [
       "  0%|          | 0/10 [00:00<?, ?it/s]"
      ],
      "application/vnd.jupyter.widget-view+json": {
       "version_major": 2,
       "version_minor": 0,
       "model_id": "e86ddec1ac07485a976f4959091cede4"
      }
     },
     "metadata": {}
    },
    {
     "output_type": "execute_result",
     "data": {
      "text/plain": [
       "MobileNet3D_V2(\n",
       "  (conv1): Conv3d(3, 32, kernel_size=(3, 3, 3), stride=(1, 2, 2), padding=(1, 1, 1))\n",
       "  (mobileblock1_1): Sequential(\n",
       "    (0): Conv3d(32, 192, kernel_size=(1, 1, 1), stride=(1, 1, 1))\n",
       "    (1): BatchNorm3d(192, eps=1e-05, momentum=0.1, affine=True, track_running_stats=True)\n",
       "    (2): ReLU6()\n",
       "    (3): Conv3d(192, 192, kernel_size=(3, 3, 3), stride=(1, 1, 1), padding=(1, 1, 1), groups=192)\n",
       "    (4): BatchNorm3d(192, eps=1e-05, momentum=0.1, affine=True, track_running_stats=True)\n",
       "    (5): ReLU6()\n",
       "    (6): Conv3d(192, 32, kernel_size=(1, 1, 1), stride=(1, 1, 1))\n",
       "    (7): BatchNorm3d(32, eps=1e-05, momentum=0.1, affine=True, track_running_stats=True)\n",
       "  )\n",
       "  (mobileblock1_2): Sequential(\n",
       "    (0): Conv3d(32, 192, kernel_size=(1, 1, 1), stride=(1, 1, 1))\n",
       "    (1): BatchNorm3d(192, eps=1e-05, momentum=0.1, affine=True, track_running_stats=True)\n",
       "    (2): ReLU6()\n",
       "    (3): Conv3d(192, 192, kernel_size=(3, 3, 3), stride=(1, 1, 1), padding=(1, 1, 1), groups=192)\n",
       "    (4): BatchNorm3d(192, eps=1e-05, momentum=0.1, affine=True, track_running_stats=True)\n",
       "    (5): ReLU6()\n",
       "    (6): Conv3d(192, 16, kernel_size=(1, 1, 1), stride=(1, 1, 1))\n",
       "    (7): BatchNorm3d(16, eps=1e-05, momentum=0.1, affine=True, track_running_stats=True)\n",
       "  )\n",
       "  (mobileblock2_1): Sequential(\n",
       "    (0): Conv3d(16, 96, kernel_size=(1, 1, 1), stride=(1, 1, 1))\n",
       "    (1): BatchNorm3d(96, eps=1e-05, momentum=0.1, affine=True, track_running_stats=True)\n",
       "    (2): ReLU6()\n",
       "    (3): Conv3d(96, 96, kernel_size=(3, 3, 3), stride=(1, 1, 1), padding=(1, 1, 1), groups=96)\n",
       "    (4): BatchNorm3d(96, eps=1e-05, momentum=0.1, affine=True, track_running_stats=True)\n",
       "    (5): ReLU6()\n",
       "    (6): Conv3d(96, 16, kernel_size=(1, 1, 1), stride=(1, 1, 1))\n",
       "    (7): BatchNorm3d(16, eps=1e-05, momentum=0.1, affine=True, track_running_stats=True)\n",
       "  )\n",
       "  (mobileblock2_2): Sequential(\n",
       "    (0): Conv3d(16, 96, kernel_size=(1, 1, 1), stride=(1, 1, 1))\n",
       "    (1): BatchNorm3d(96, eps=1e-05, momentum=0.1, affine=True, track_running_stats=True)\n",
       "    (2): ReLU6()\n",
       "    (3): Conv3d(96, 96, kernel_size=(3, 3, 3), stride=(2, 2, 2), padding=(1, 1, 1), groups=96)\n",
       "    (4): BatchNorm3d(96, eps=1e-05, momentum=0.1, affine=True, track_running_stats=True)\n",
       "    (5): ReLU6()\n",
       "    (6): Conv3d(96, 24, kernel_size=(1, 1, 1), stride=(1, 1, 1))\n",
       "    (7): BatchNorm3d(24, eps=1e-05, momentum=0.1, affine=True, track_running_stats=True)\n",
       "  )\n",
       "  (mobileblock2_1_r): Sequential(\n",
       "    (0): Conv3d(24, 144, kernel_size=(1, 1, 1), stride=(1, 1, 1))\n",
       "    (1): BatchNorm3d(144, eps=1e-05, momentum=0.1, affine=True, track_running_stats=True)\n",
       "    (2): ReLU6()\n",
       "    (3): Conv3d(144, 144, kernel_size=(3, 3, 3), stride=(1, 1, 1), padding=(1, 1, 1), groups=144)\n",
       "    (4): BatchNorm3d(144, eps=1e-05, momentum=0.1, affine=True, track_running_stats=True)\n",
       "    (5): ReLU6()\n",
       "    (6): Conv3d(144, 24, kernel_size=(1, 1, 1), stride=(1, 1, 1))\n",
       "    (7): BatchNorm3d(24, eps=1e-05, momentum=0.1, affine=True, track_running_stats=True)\n",
       "  )\n",
       "  (mobileblock2_2_r): Sequential(\n",
       "    (0): Conv3d(24, 144, kernel_size=(1, 1, 1), stride=(1, 1, 1))\n",
       "    (1): BatchNorm3d(144, eps=1e-05, momentum=0.1, affine=True, track_running_stats=True)\n",
       "    (2): ReLU6()\n",
       "    (3): Conv3d(144, 144, kernel_size=(3, 3, 3), stride=(1, 1, 1), padding=(1, 1, 1), groups=144)\n",
       "    (4): BatchNorm3d(144, eps=1e-05, momentum=0.1, affine=True, track_running_stats=True)\n",
       "    (5): ReLU6()\n",
       "    (6): Conv3d(144, 24, kernel_size=(1, 1, 1), stride=(1, 1, 1))\n",
       "    (7): BatchNorm3d(24, eps=1e-05, momentum=0.1, affine=True, track_running_stats=True)\n",
       "  )\n",
       "  (mobileblock3_1): Sequential(\n",
       "    (0): Conv3d(24, 144, kernel_size=(1, 1, 1), stride=(1, 1, 1))\n",
       "    (1): BatchNorm3d(144, eps=1e-05, momentum=0.1, affine=True, track_running_stats=True)\n",
       "    (2): ReLU6()\n",
       "    (3): Conv3d(144, 144, kernel_size=(3, 3, 3), stride=(1, 1, 1), padding=(1, 1, 1), groups=144)\n",
       "    (4): BatchNorm3d(144, eps=1e-05, momentum=0.1, affine=True, track_running_stats=True)\n",
       "    (5): ReLU6()\n",
       "    (6): Conv3d(144, 24, kernel_size=(1, 1, 1), stride=(1, 1, 1))\n",
       "    (7): BatchNorm3d(24, eps=1e-05, momentum=0.1, affine=True, track_running_stats=True)\n",
       "  )\n",
       "  (mobileblock3_2): Sequential(\n",
       "    (0): Conv3d(24, 144, kernel_size=(1, 1, 1), stride=(1, 1, 1))\n",
       "    (1): BatchNorm3d(144, eps=1e-05, momentum=0.1, affine=True, track_running_stats=True)\n",
       "    (2): ReLU6()\n",
       "    (3): Conv3d(144, 144, kernel_size=(3, 3, 3), stride=(2, 2, 2), padding=(1, 1, 1), groups=144)\n",
       "    (4): BatchNorm3d(144, eps=1e-05, momentum=0.1, affine=True, track_running_stats=True)\n",
       "    (5): ReLU6()\n",
       "    (6): Conv3d(144, 32, kernel_size=(1, 1, 1), stride=(1, 1, 1))\n",
       "    (7): BatchNorm3d(32, eps=1e-05, momentum=0.1, affine=True, track_running_stats=True)\n",
       "  )\n",
       "  (mobileblock3_1_r): Sequential(\n",
       "    (0): Conv3d(32, 192, kernel_size=(1, 1, 1), stride=(1, 1, 1))\n",
       "    (1): BatchNorm3d(192, eps=1e-05, momentum=0.1, affine=True, track_running_stats=True)\n",
       "    (2): ReLU6()\n",
       "    (3): Conv3d(192, 192, kernel_size=(3, 3, 3), stride=(1, 1, 1), padding=(1, 1, 1), groups=192)\n",
       "    (4): BatchNorm3d(192, eps=1e-05, momentum=0.1, affine=True, track_running_stats=True)\n",
       "    (5): ReLU6()\n",
       "    (6): Conv3d(192, 32, kernel_size=(1, 1, 1), stride=(1, 1, 1))\n",
       "    (7): BatchNorm3d(32, eps=1e-05, momentum=0.1, affine=True, track_running_stats=True)\n",
       "  )\n",
       "  (mobileblock3_2_r): Sequential(\n",
       "    (0): Conv3d(32, 192, kernel_size=(1, 1, 1), stride=(1, 1, 1))\n",
       "    (1): BatchNorm3d(192, eps=1e-05, momentum=0.1, affine=True, track_running_stats=True)\n",
       "    (2): ReLU6()\n",
       "    (3): Conv3d(192, 192, kernel_size=(3, 3, 3), stride=(1, 1, 1), padding=(1, 1, 1), groups=192)\n",
       "    (4): BatchNorm3d(192, eps=1e-05, momentum=0.1, affine=True, track_running_stats=True)\n",
       "    (5): ReLU6()\n",
       "    (6): Conv3d(192, 32, kernel_size=(1, 1, 1), stride=(1, 1, 1))\n",
       "    (7): BatchNorm3d(32, eps=1e-05, momentum=0.1, affine=True, track_running_stats=True)\n",
       "  )\n",
       "  (mobileblock4_1): Sequential(\n",
       "    (0): Conv3d(32, 192, kernel_size=(1, 1, 1), stride=(1, 1, 1))\n",
       "    (1): BatchNorm3d(192, eps=1e-05, momentum=0.1, affine=True, track_running_stats=True)\n",
       "    (2): ReLU6()\n",
       "    (3): Conv3d(192, 192, kernel_size=(3, 3, 3), stride=(1, 1, 1), padding=(1, 1, 1), groups=192)\n",
       "    (4): BatchNorm3d(192, eps=1e-05, momentum=0.1, affine=True, track_running_stats=True)\n",
       "    (5): ReLU6()\n",
       "    (6): Conv3d(192, 32, kernel_size=(1, 1, 1), stride=(1, 1, 1))\n",
       "    (7): BatchNorm3d(32, eps=1e-05, momentum=0.1, affine=True, track_running_stats=True)\n",
       "  )\n",
       "  (mobileblock4_2): Sequential(\n",
       "    (0): Conv3d(32, 192, kernel_size=(1, 1, 1), stride=(1, 1, 1))\n",
       "    (1): BatchNorm3d(192, eps=1e-05, momentum=0.1, affine=True, track_running_stats=True)\n",
       "    (2): ReLU6()\n",
       "    (3): Conv3d(192, 192, kernel_size=(3, 3, 3), stride=(2, 2, 2), padding=(1, 1, 1), groups=192)\n",
       "    (4): BatchNorm3d(192, eps=1e-05, momentum=0.1, affine=True, track_running_stats=True)\n",
       "    (5): ReLU6()\n",
       "    (6): Conv3d(192, 64, kernel_size=(1, 1, 1), stride=(1, 1, 1))\n",
       "    (7): BatchNorm3d(64, eps=1e-05, momentum=0.1, affine=True, track_running_stats=True)\n",
       "  )\n",
       "  (mobileblock4_1_r): Sequential(\n",
       "    (0): Conv3d(64, 384, kernel_size=(1, 1, 1), stride=(1, 1, 1))\n",
       "    (1): BatchNorm3d(384, eps=1e-05, momentum=0.1, affine=True, track_running_stats=True)\n",
       "    (2): ReLU6()\n",
       "    (3): Conv3d(384, 384, kernel_size=(3, 3, 3), stride=(1, 1, 1), padding=(1, 1, 1), groups=384)\n",
       "    (4): BatchNorm3d(384, eps=1e-05, momentum=0.1, affine=True, track_running_stats=True)\n",
       "    (5): ReLU6()\n",
       "    (6): Conv3d(384, 64, kernel_size=(1, 1, 1), stride=(1, 1, 1))\n",
       "    (7): BatchNorm3d(64, eps=1e-05, momentum=0.1, affine=True, track_running_stats=True)\n",
       "  )\n",
       "  (mobileblock4_2_r): Sequential(\n",
       "    (0): Conv3d(64, 384, kernel_size=(1, 1, 1), stride=(1, 1, 1))\n",
       "    (1): BatchNorm3d(384, eps=1e-05, momentum=0.1, affine=True, track_running_stats=True)\n",
       "    (2): ReLU6()\n",
       "    (3): Conv3d(384, 384, kernel_size=(3, 3, 3), stride=(1, 1, 1), padding=(1, 1, 1), groups=384)\n",
       "    (4): BatchNorm3d(384, eps=1e-05, momentum=0.1, affine=True, track_running_stats=True)\n",
       "    (5): ReLU6()\n",
       "    (6): Conv3d(384, 64, kernel_size=(1, 1, 1), stride=(1, 1, 1))\n",
       "    (7): BatchNorm3d(64, eps=1e-05, momentum=0.1, affine=True, track_running_stats=True)\n",
       "  )\n",
       "  (mobileblock5_1): Sequential(\n",
       "    (0): Conv3d(64, 384, kernel_size=(1, 1, 1), stride=(1, 1, 1))\n",
       "    (1): BatchNorm3d(384, eps=1e-05, momentum=0.1, affine=True, track_running_stats=True)\n",
       "    (2): ReLU6()\n",
       "    (3): Conv3d(384, 384, kernel_size=(3, 3, 3), stride=(1, 1, 1), padding=(1, 1, 1), groups=384)\n",
       "    (4): BatchNorm3d(384, eps=1e-05, momentum=0.1, affine=True, track_running_stats=True)\n",
       "    (5): ReLU6()\n",
       "    (6): Conv3d(384, 64, kernel_size=(1, 1, 1), stride=(1, 1, 1))\n",
       "    (7): BatchNorm3d(64, eps=1e-05, momentum=0.1, affine=True, track_running_stats=True)\n",
       "  )\n",
       "  (mobileblock5_2): Sequential(\n",
       "    (0): Conv3d(64, 384, kernel_size=(1, 1, 1), stride=(1, 1, 1))\n",
       "    (1): BatchNorm3d(384, eps=1e-05, momentum=0.1, affine=True, track_running_stats=True)\n",
       "    (2): ReLU6()\n",
       "    (3): Conv3d(384, 384, kernel_size=(3, 3, 3), stride=(1, 1, 1), padding=(1, 1, 1), groups=384)\n",
       "    (4): BatchNorm3d(384, eps=1e-05, momentum=0.1, affine=True, track_running_stats=True)\n",
       "    (5): ReLU6()\n",
       "    (6): Conv3d(384, 96, kernel_size=(1, 1, 1), stride=(1, 1, 1))\n",
       "    (7): BatchNorm3d(96, eps=1e-05, momentum=0.1, affine=True, track_running_stats=True)\n",
       "  )\n",
       "  (mobileblock5_1_r): Sequential(\n",
       "    (0): Conv3d(96, 576, kernel_size=(1, 1, 1), stride=(1, 1, 1))\n",
       "    (1): BatchNorm3d(576, eps=1e-05, momentum=0.1, affine=True, track_running_stats=True)\n",
       "    (2): ReLU6()\n",
       "    (3): Conv3d(576, 576, kernel_size=(3, 3, 3), stride=(1, 1, 1), padding=(1, 1, 1), groups=576)\n",
       "    (4): BatchNorm3d(576, eps=1e-05, momentum=0.1, affine=True, track_running_stats=True)\n",
       "    (5): ReLU6()\n",
       "    (6): Conv3d(576, 96, kernel_size=(1, 1, 1), stride=(1, 1, 1))\n",
       "    (7): BatchNorm3d(96, eps=1e-05, momentum=0.1, affine=True, track_running_stats=True)\n",
       "  )\n",
       "  (mobileblock5_2_r): Sequential(\n",
       "    (0): Conv3d(96, 576, kernel_size=(1, 1, 1), stride=(1, 1, 1))\n",
       "    (1): BatchNorm3d(576, eps=1e-05, momentum=0.1, affine=True, track_running_stats=True)\n",
       "    (2): ReLU6()\n",
       "    (3): Conv3d(576, 576, kernel_size=(3, 3, 3), stride=(1, 1, 1), padding=(1, 1, 1), groups=576)\n",
       "    (4): BatchNorm3d(576, eps=1e-05, momentum=0.1, affine=True, track_running_stats=True)\n",
       "    (5): ReLU6()\n",
       "    (6): Conv3d(576, 96, kernel_size=(1, 1, 1), stride=(1, 1, 1))\n",
       "    (7): BatchNorm3d(96, eps=1e-05, momentum=0.1, affine=True, track_running_stats=True)\n",
       "  )\n",
       "  (mobileblock6_1): Sequential(\n",
       "    (0): Conv3d(96, 576, kernel_size=(1, 1, 1), stride=(1, 1, 1))\n",
       "    (1): BatchNorm3d(576, eps=1e-05, momentum=0.1, affine=True, track_running_stats=True)\n",
       "    (2): ReLU6()\n",
       "    (3): Conv3d(576, 576, kernel_size=(3, 3, 3), stride=(1, 1, 1), padding=(1, 1, 1), groups=576)\n",
       "    (4): BatchNorm3d(576, eps=1e-05, momentum=0.1, affine=True, track_running_stats=True)\n",
       "    (5): ReLU6()\n",
       "    (6): Conv3d(576, 96, kernel_size=(1, 1, 1), stride=(1, 1, 1))\n",
       "    (7): BatchNorm3d(96, eps=1e-05, momentum=0.1, affine=True, track_running_stats=True)\n",
       "  )\n",
       "  (mobileblock6_2): Sequential(\n",
       "    (0): Conv3d(96, 576, kernel_size=(1, 1, 1), stride=(1, 1, 1))\n",
       "    (1): BatchNorm3d(576, eps=1e-05, momentum=0.1, affine=True, track_running_stats=True)\n",
       "    (2): ReLU6()\n",
       "    (3): Conv3d(576, 576, kernel_size=(3, 3, 3), stride=(2, 2, 2), padding=(1, 1, 1), groups=576)\n",
       "    (4): BatchNorm3d(576, eps=1e-05, momentum=0.1, affine=True, track_running_stats=True)\n",
       "    (5): ReLU6()\n",
       "    (6): Conv3d(576, 160, kernel_size=(1, 1, 1), stride=(1, 1, 1))\n",
       "    (7): BatchNorm3d(160, eps=1e-05, momentum=0.1, affine=True, track_running_stats=True)\n",
       "  )\n",
       "  (mobileblock6_1_r): Sequential(\n",
       "    (0): Conv3d(160, 960, kernel_size=(1, 1, 1), stride=(1, 1, 1))\n",
       "    (1): BatchNorm3d(960, eps=1e-05, momentum=0.1, affine=True, track_running_stats=True)\n",
       "    (2): ReLU6()\n",
       "    (3): Conv3d(960, 960, kernel_size=(3, 3, 3), stride=(1, 1, 1), padding=(1, 1, 1), groups=960)\n",
       "    (4): BatchNorm3d(960, eps=1e-05, momentum=0.1, affine=True, track_running_stats=True)\n",
       "    (5): ReLU6()\n",
       "    (6): Conv3d(960, 160, kernel_size=(1, 1, 1), stride=(1, 1, 1))\n",
       "    (7): BatchNorm3d(160, eps=1e-05, momentum=0.1, affine=True, track_running_stats=True)\n",
       "  )\n",
       "  (mobileblock6_2_r): Sequential(\n",
       "    (0): Conv3d(160, 960, kernel_size=(1, 1, 1), stride=(1, 1, 1))\n",
       "    (1): BatchNorm3d(960, eps=1e-05, momentum=0.1, affine=True, track_running_stats=True)\n",
       "    (2): ReLU6()\n",
       "    (3): Conv3d(960, 960, kernel_size=(3, 3, 3), stride=(1, 1, 1), padding=(1, 1, 1), groups=960)\n",
       "    (4): BatchNorm3d(960, eps=1e-05, momentum=0.1, affine=True, track_running_stats=True)\n",
       "    (5): ReLU6()\n",
       "    (6): Conv3d(960, 160, kernel_size=(1, 1, 1), stride=(1, 1, 1))\n",
       "    (7): BatchNorm3d(160, eps=1e-05, momentum=0.1, affine=True, track_running_stats=True)\n",
       "  )\n",
       "  (mobileblock7_1): Sequential(\n",
       "    (0): Conv3d(160, 960, kernel_size=(1, 1, 1), stride=(1, 1, 1))\n",
       "    (1): BatchNorm3d(960, eps=1e-05, momentum=0.1, affine=True, track_running_stats=True)\n",
       "    (2): ReLU6()\n",
       "    (3): Conv3d(960, 960, kernel_size=(3, 3, 3), stride=(1, 1, 1), padding=(1, 1, 1), groups=960)\n",
       "    (4): BatchNorm3d(960, eps=1e-05, momentum=0.1, affine=True, track_running_stats=True)\n",
       "    (5): ReLU6()\n",
       "    (6): Conv3d(960, 160, kernel_size=(1, 1, 1), stride=(1, 1, 1))\n",
       "    (7): BatchNorm3d(160, eps=1e-05, momentum=0.1, affine=True, track_running_stats=True)\n",
       "  )\n",
       "  (mobileblock7_2): Sequential(\n",
       "    (0): Conv3d(160, 960, kernel_size=(1, 1, 1), stride=(1, 1, 1))\n",
       "    (1): BatchNorm3d(960, eps=1e-05, momentum=0.1, affine=True, track_running_stats=True)\n",
       "    (2): ReLU6()\n",
       "    (3): Conv3d(960, 960, kernel_size=(3, 3, 3), stride=(1, 1, 1), padding=(1, 1, 1), groups=960)\n",
       "    (4): BatchNorm3d(960, eps=1e-05, momentum=0.1, affine=True, track_running_stats=True)\n",
       "    (5): ReLU6()\n",
       "    (6): Conv3d(960, 320, kernel_size=(1, 1, 1), stride=(1, 1, 1))\n",
       "    (7): BatchNorm3d(320, eps=1e-05, momentum=0.1, affine=True, track_running_stats=True)\n",
       "  )\n",
       "  (conv8): Conv3d(320, 1280, kernel_size=(1, 1, 1), stride=(1, 1, 1))\n",
       "  (avgpool): AvgPool3d(kernel_size=(1, 4, 4), stride=(1, 1, 1), padding=0)\n",
       "  (linear): Linear(in_features=1280, out_features=15, bias=True)\n",
       "  (flatten): Flatten(start_dim=1, end_dim=-1)\n",
       "  (relu): ReLU()\n",
       ")"
      ]
     },
     "metadata": {},
     "execution_count": 103
    }
   ]
  },
  {
   "cell_type": "code",
   "source": [
    "torch.save(model.state_dict(), '/content/weights/1.pth')"
   ],
   "metadata": {
    "id": "9rRBcpK3OPV1",
    "pycharm": {
     "name": "#%%\n"
    }
   },
   "execution_count": 102,
   "outputs": []
  },
  {
   "cell_type": "code",
   "source": [
    "task.close()"
   ],
   "metadata": {
    "id": "aeyITnPB7SPd",
    "pycharm": {
     "name": "#%%\n"
    }
   },
   "execution_count": 104,
   "outputs": []
  },
  {
   "cell_type": "code",
   "source": [],
   "metadata": {
    "id": "-XJVg8iJOgQu",
    "pycharm": {
     "name": "#%%\n"
    }
   },
   "execution_count": null,
   "outputs": []
  }
 ]
}